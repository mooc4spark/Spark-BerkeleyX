{
 "cells": [
  {
   "cell_type": "markdown",
   "metadata": {
    "collapsed": true
   },
   "source": [
    "<a rel=\"license\" href=\"http://creativecommons.org/licenses/by-nc-nd/4.0/\"><img alt=\"Creative Commons License\" style=\"border-width:0\" src=\"https://i.creativecommons.org/l/by-nc-nd/4.0/88x31.png\" align=\"left\" /></a><br><br/>This work is licensed under a <a rel=\"license\" href=\"http://creativecommons.org/licenses/by-nc-nd/4.0/\">Creative Commons Attribution-NonCommercial-NoDerivatives 4.0 International License</a>."
   ]
  },
  {
   "cell_type": "markdown",
   "metadata": {},
   "source": [
    "![ML Logo](http://spark-mooc.github.io/web-assets/images/CS190.1x_Banner_300.png)"
   ]
  },
  {
   "cell_type": "markdown",
   "metadata": {},
   "source": [
    "# Math and Python review\n",
    "This notebook reviews vector and matrix math, the [NumPy](http://www.numpy.org/) Python package, and Python lambda expressions. Part 1 covers vector and matrix math, and you'll do a few exercises by hand. In Part 2, you'll learn about NumPy and use `ndarray` objects to solve the math exercises. Part 3 provides additional information about NumPy and how it relates to array usage in Spark's [MLlib](https://spark.apache.org/mllib/). Part 4 provides an overview of lambda expressions.\n",
    "\n",
    "To move through the notebook just run each of the cells. You can run a cell by pressing \"shift-enter\", which will compute the current cell and advance to the next cell, or by clicking in a cell and pressing \"control-enter\", which will compute the current cell and remain in that cell. You should move through the notebook from top to bottom and run all of the cells. If you skip some cells, later cells might not work as expected. Note that there are several exercises within this notebook. You will need to provide solutions for cells that start with: \n",
    "\n",
    "`# TODO: Replace <FILL IN> with appropriate code.`\n",
    "\n",
    "**This notebook covers**:\n",
    "* Part 1: Math review\n",
    "* Part 2: NumPy\n",
    "* Part 3: Additional NumPy and Spark linear algebra\n",
    "* Part 4: Python lambda expressions\n",
    "* Appendix A: Submitting your exercises to the Autograder"
   ]
  },
  {
   "cell_type": "markdown",
   "metadata": {},
   "source": [
    "## Part 1: Math review"
   ]
  },
  {
   "cell_type": "markdown",
   "metadata": {},
   "source": [
    "### (1a) Scalar multiplication: vectors\n",
    "In this exercise, you will calculate the product of a scalar and a vector by hand and enter the result in the code cell below. Scalar multiplication is straightforward. The resulting vector equals the product of the scalar, which is a single value, and each item in the original vector. In the example below, a a is the scalar (constant) and $\\mathbf{v}$ is the vector.\n",
    "\\begin{equation}\n",
    "a \\mathbf{v} = \\begin{bmatrix} a v_1 \\\\ a v_2 \\\\ \\vdots \\\\ a v_n \\end{bmatrix}\n",
    "\\end{equation}\n",
    "Calculate the value of $\\mathbf{x}$:\n",
    "\\begin{equation}\n",
    "\\mathbf{x} = 3 \\begin{bmatrix} 1 \\\\ -2 \\\\ 0 \\end{bmatrix}\n",
    "\\end{equation}\n",
    "Calculate the value of $\\mathbf{y}$:\n",
    "\\begin{equation}\n",
    "\\mathbf{y} = 2 \\begin{bmatrix} 2 \\\\ 4 \\\\ 8 \\end{bmatrix}\n",
    "\\end{equation}"
   ]
  },
  {
   "cell_type": "code",
   "execution_count": null,
   "metadata": {
    "collapsed": true
   },
   "outputs": [],
   "source": [
    "vectorX = [3, -6, 0]\n",
    "vectorY = [4, 8, 16]"
   ]
  },
  {
   "cell_type": "markdown",
   "metadata": {},
   "source": [
    "### (1b) Element-wise multiplication: vectors\n",
    "In this exercise, you will calculate the element-wise multiplication of two vectors by hand and enter the result in the code cell below. You'll later see that element-wise multiplication is the default method when two NumPy arrays are multiplied together. Note we won't be performing element-wise multiplication in future labs, but we are introducing it here to distinguish it from other vector operators. It is also a common operation in NumPy, as we will discuss in Part (2b).\n",
    "\n",
    "The element-wise calculation is as follows:\n",
    "\\begin{equation}\n",
    "\\mathbf{x} \\odot \\mathbf{y} = \\begin{bmatrix} x_1 y_1 \\\\ x_2 y_2 \\\\ \\vdots \\\\ x_n y_n \\end{bmatrix}\n",
    "\\end{equation}\n",
    "Calculate the value of $\\mathbf{z}$:\n",
    "\\begin{equation}\n",
    "\\mathbf{z} = \\begin{bmatrix} 1 \\\\ 2 \\\\ 3 \\end{bmatrix} \\odot \\begin{bmatrix} 4 \\\\ 5 \\\\ 6 \\end{bmatrix}\n",
    "\\end{equation}"
   ]
  },
  {
   "cell_type": "code",
   "execution_count": null,
   "metadata": {
    "collapsed": true
   },
   "outputs": [],
   "source": [
    "vectorZ = [4, 10, 18]"
   ]
  },
  {
   "cell_type": "markdown",
   "metadata": {},
   "source": [
    "### (1c) Dot product\n",
    "In this exercise, you will calculate the dot product of two vectors by hand and enter the result in the code cell below. Note that the dot product is equivalent to performing element-wise multiplication and then summing the result.\n",
    "\n",
    "Below, you'll find the calculation for the dot product of two vectors, where each vector has length $n$:\n",
    "\\begin{equation}\n",
    "\\mathbf{w} \\cdot \\mathbf{x} = \\sum_{i=1}^n w_i x_i\n",
    "\\end{equation}\n",
    "\n",
    "Note that you may also see $\\mathbf{w} \\cdot \\mathbf{x}$ represented as $\\mathbf{w}^\\top \\mathbf{x}$ \n",
    "\n",
    "Calculate the value for c_1 c based on the dot product of the following two vectors:\n",
    "\\begin{equation}\n",
    "c_1 = \\begin{bmatrix} 1 & -3 \\end{bmatrix} \\cdot \\begin{bmatrix} 4 \\\\ 5 \\end{bmatrix}\n",
    "\\end{equation}\n",
    "\n",
    "Calculate the value for c_2 c based on the dot product of the following two vectors:\n",
    "\\begin{equation}\n",
    "c_2 = \\begin{bmatrix} 3 & 4 & 5 \\end{bmatrix} \\cdot \\begin{bmatrix} 1 \\\\ 2 \\\\ 3 \\end{bmatrix}\n",
    "\\end{equation}\n"
   ]
  },
  {
   "cell_type": "code",
   "execution_count": null,
   "metadata": {
    "collapsed": true
   },
   "outputs": [],
   "source": [
    "c1 = -11\n",
    "c2 = 26"
   ]
  },
  {
   "cell_type": "markdown",
   "metadata": {},
   "source": [
    "### (1d) Matrix multiplication\n",
    "In this exercise, you will calculate the result of multiplying two matrices together by hand and enter the result in the code cell below. Refer to the slides for the formula for multiplying two matrices together.\n",
    "\n",
    "First, you'll calculate the value for $\\mathbf{X}$.\n",
    "\\begin{equation}\n",
    "\\mathbf{X} = \\begin{bmatrix} 1 & 2 & 3 \\\\ 4 & 5 & 6 \\end{bmatrix} \\begin{bmatrix} 1 & 2 \\\\ 3 & 4 \\\\ 5 & 6 \\end{bmatrix}\n",
    "\\end{equation}\n",
    "Next, you'll perform an outer product and calculate the value for $\\mathbf{Y}$.\n",
    "\\begin{equation}\n",
    "\\mathbf{Y} = \\begin{bmatrix} 1 \\\\ 2 \\\\ 3 \\end{bmatrix} \\begin{bmatrix} 1 & 2 & 3 \\end{bmatrix} \n",
    "\\end{equation}\n",
    "The resulting matrices should be stored row-wise (see [row-major order](https://en.wikipedia.org/wiki/Row-major_order)). This means that the matrix is organized by rows. For instance, a 2x2 row-wise matrix would be represented as: $[[r_1c_1, r_1c_2], [r_2c_1, r_2c_2]]$ where $r$ stands for row and $c$ stands for column.\n",
    "\n",
    "Note that outer product is just a special case of general matrix multiplication and follows the same rules as normal matrix multiplication."
   ]
  },
  {
   "cell_type": "code",
   "execution_count": null,
   "metadata": {
    "collapsed": true
   },
   "outputs": [],
   "source": [
    "matrixX = [[22, 28], [49, 64]]\n",
    "matrixY = [[1, 2, 3], [2, 4, 6], [3, 6, 9]]"
   ]
  },
  {
   "cell_type": "markdown",
   "metadata": {},
   "source": [
    "## Part 2: NumPy"
   ]
  },
  {
   "cell_type": "markdown",
   "metadata": {},
   "source": [
    "### (2a) Scalar multiplication\n",
    "[NumPy](http://docs.scipy.org/doc/numpy/reference/) is a Python library for working with arrays. NumPy provides abstractions that make it easy to treat these underlying arrays as vectors and matrices. The library is optimized to be fast and memory efficient, and we'll be using it throughout the course. The building block for NumPy is the [ndarray](http://docs.scipy.org/doc/numpy/reference/generated/numpy.ndarray.html), which is a multidimensional array of fixed-size that contains elements of one type (e.g. array of floats).\n",
    "\n",
    "For this exercise, you'll create a `ndarray` consisting of the elements [1, 2, 3] and multiply this array by 5. Use [np.array()](http://docs.scipy.org/doc/numpy/reference/generated/numpy.array.html) to create the array. Note that you can pass a Python list into `np.array()`. To perform scalar multiplication with an ndarray just use `*`.\n",
    "\n",
    "Note that if you create an array from a Python list of integers you will obtain a one-dimensional array, _which is equivalent to a vector for our purposes_."
   ]
  },
  {
   "cell_type": "code",
   "execution_count": null,
   "metadata": {
    "collapsed": true
   },
   "outputs": [],
   "source": [
    "# It is convention to import NumPy with the alias np\n",
    "import numpy as np"
   ]
  },
  {
   "cell_type": "code",
   "execution_count": null,
   "metadata": {},
   "outputs": [],
   "source": [
    "# Create a numpy array with the values 1, 2, 3\n",
    "simpleArray = np.array([1, 2, 3])\n",
    "# Perform the scalar product of 5 and the numpy array\n",
    "timesFive = simpleArray * 5\n",
    "print 'simpleArray\\n{0}'.format(simpleArray)\n",
    "print '\\ntimesFive\\n{0}'.format(timesFive)"
   ]
  },
  {
   "cell_type": "markdown",
   "metadata": {},
   "source": [
    "### (2b) Element-wise multiplication and dot product\n",
    "NumPy arrays support both element-wise multiplication and dot product. Element-wise multiplication occurs automatically when you use the `*` operator to multiply two ndarray objects of the same length.\n",
    "\n",
    "To perform the dot product you can use either [np.dot()](http://docs.scipy.org/doc/numpy/reference/generated/numpy.dot.html#numpy.dot) or [np.ndarray.dot()](http://docs.scipy.org/doc/numpy/reference/generated/numpy.ndarray.dot.html). For example, if you had NumPy arrays x and y, you could compute their dot product four ways: `np.dot(x, y)`, `np.dot(y, x)`, `x.dot(y)`, or `y.dot(x)`.\n",
    "\n",
    "For this exercise, multiply the arrays `u` and `v` element-wise and compute their dot product."
   ]
  },
  {
   "cell_type": "code",
   "execution_count": null,
   "metadata": {},
   "outputs": [],
   "source": [
    "# Create a ndarray based on a range and step size.\n",
    "u = np.arange(0, 5, .5)\n",
    "v = np.arange(5, 10, .5)\n",
    "\n",
    "elementWise = u * v\n",
    "dotProduct = u.dot(v)\n",
    "print 'u: {0}'.format(u)\n",
    "print 'v: {0}'.format(v)\n",
    "print '\\nelementWise\\n{0}'.format(elementWise)\n",
    "print '\\ndotProduct\\n{0}'.format(dotProduct)"
   ]
  },
  {
   "cell_type": "markdown",
   "metadata": {},
   "source": [
    "(2c) Matrix math\n",
    "With NumPy it is very easy to perform matrix math. You can use [np.matrix()](http://docs.scipy.org/doc/numpy/reference/generated/numpy.matrix.html) to generate a NumPy matrix. Just pass a two-dimensional ndarray or a list of lists to the function. You can perform matrix math on NumPy matrices using `*`.\n",
    "\n",
    "You can transpose a matrix by calling [numpy.matrix.transpose()](http://docs.scipy.org/doc/numpy/reference/generated/numpy.matrix.transpose.html) or by using `.T` on the matrix object (e.g. `myMatrix.T`). Transposing a matrix produces a matrix where the new rows are the columns from the old matrix. For example:\n",
    "\\begin{equation}\n",
    "\\begin{bmatrix} 1 & 2 & 3 \\\\ 4 & 5 & 6 \\end{bmatrix}^\\top = \\begin{bmatrix} 1 & 4 \\\\ 2 & 5 \\\\ 3 & 6 \\end{bmatrix}\n",
    "\\end{equation}\n",
    "Inverting a matrix can be done using [numpy.linalg.inv()](http://docs.scipy.org/doc/numpy/reference/generated/numpy.linalg.inv.html). Note that only square matrices can be inverted, and square matrices are not guaranteed to have an inverse. If the inverse exists, then multiplying a matrix by its inverse will produce the identity matrix. $( A^{-1} A = I_n )$ The identity matrix $I_n$ has ones along its diagonal and zeros elsewhere.\n",
    "\\begin{equation}\n",
    "I_n = \\begin{bmatrix} 1 & 0 & 0 & ... & 0 \\\\ 0 & 1 & 0 & ... & 0 \\\\ 0 & 0 & 1 & ... & 0 \\\\ ... & ... & ... & ... & ... \\\\ 0 & 0 & 0 & ... & 1 \\end{bmatrix}\n",
    "\\end{equation}\n",
    "For this exercise, multiply A A times its transpose $( A^\\top )$ and then calculate the inverse of the result $( [ A A^\\top ]^{-1} )$."
   ]
  },
  {
   "cell_type": "code",
   "execution_count": null,
   "metadata": {},
   "outputs": [],
   "source": [
    "from numpy.linalg import inv\n",
    "\n",
    "A = np.matrix([[1,2,3,4],[5,6,7,8]])\n",
    "print 'A:\\n{0}'.format(A)\n",
    "# Print A transpose\n",
    "print '\\nA transpose:\\n{0}'.format(A.T)\n",
    "\n",
    "# Multiply A by A transpose\n",
    "AAt = A * A.T\n",
    "print '\\nAAt:\\n{0}'.format(AAt)\n",
    "\n",
    "# Invert AAt with np.linalg.inv()\n",
    "AAtInv = np.linalg.inv(AAt)\n",
    "print '\\nAAtInv:\\n{0}'.format(AAtInv)\n",
    "\n",
    "# Show inverse times matrix equals identity\n",
    "# We round due to numerical precision\n",
    "print '\\nAAtInv * AAt:\\n{0}'.format((AAtInv * AAt).round(4))"
   ]
  },
  {
   "cell_type": "markdown",
   "metadata": {},
   "source": [
    "## Part 3: Additional NumPy and Spark linear algebra"
   ]
  },
  {
   "cell_type": "markdown",
   "metadata": {},
   "source": [
    "### (3a) Slices\n",
    "You can select a subset of a one-dimensional NumPy ndarray's elements by using slices. These slices operate the same way as slices for Python lists. For example, `[0, 1, 2, 3][:2]` returns the first two elements `[0, 1]`. NumPy, additionally, has more sophisticated slicing that allows slicing across multiple dimensions; however, you'll only need to use basic slices in future labs for this course.\n",
    "\n",
    "Note that if no index is placed to the left of a `:`, it is equivalent to starting at `0`, and hence `[0, 1, 2, 3][:2]` and `[0, 1, 2, 3][0:2]` yield the same result. Similarly, if no index is placed to the right of a `:`, it is equivalent to slicing to the end of the object. Also, you can use negative indices to index relative to the end of the object, so `[-2:]` would return the last two elements of the object.\n",
    "\n",
    "For this exercise, return the last 3 elements of the array features."
   ]
  },
  {
   "cell_type": "code",
   "execution_count": null,
   "metadata": {},
   "outputs": [],
   "source": [
    "features = np.array([1, 2, 3, 4])\n",
    "print 'features:\\n{0}'.format(features)\n",
    "\n",
    "# The last three elements of features\n",
    "lastThree = features[-3:]\n",
    "\n",
    "print '\\nlastThree:\\n{0}'.format(lastThree)"
   ]
  },
  {
   "cell_type": "markdown",
   "metadata": {},
   "source": [
    "### (3b) Combining ndarray objects\n",
    "NumPy provides many functions for creating new arrays from existing arrays. We'll explore two functions: [np.hstack()](http://docs.scipy.org/doc/numpy/reference/generated/numpy.hstack.html), which allows you to combine arrays column-wise, and [np.vstack()](http://docs.scipy.org/doc/numpy/reference/generated/numpy.vstack.html), which allows you to combine arrays row-wise. Note that both `np.hstack()` and `np.vstack()` take in a tuple of arrays as their first argument. To horizontally combine three arrays a, b, and c, you would run `np.hstack((a, b, c))`. If we had two arrays: `a = [1, 2, 3, 4]` and `b = [5, 6, 7, 8]`, we could use `np.vstack((a, b))` to produce the two-dimensional array:\n",
    "\\begin{equation}\n",
    "\\begin{bmatrix} 1 & 2 & 3 & 4 \\\\ 5 & 6 & 7 & 8 \\end{bmatrix}\n",
    "\\end{equation}\n",
    "For this exercise, you'll combine the `zeros` and `ones` arrays both horizontally (column-wise) and vertically (row-wise). Note that the result of stacking two arrays is an `ndarray`. If you need the result to be a matrix, you can call `np.matrix()` on the result, which will return a NumPy matrix."
   ]
  },
  {
   "cell_type": "code",
   "execution_count": null,
   "metadata": {},
   "outputs": [],
   "source": [
    "zeros = np.zeros(8)\n",
    "ones = np.ones(8)\n",
    "print 'zeros:\\n{0}'.format(zeros)\n",
    "print '\\nones:\\n{0}'.format(ones)\n",
    "\n",
    "zerosThenOnes = np.hstack((zeros, ones))   # A 1 by 16 array\n",
    "zerosAboveOnes = np.vstack((zeros, ones))  # A 2 by 8 array\n",
    "\n",
    "print '\\nzerosThenOnes:\\n{0}'.format(zerosThenOnes)\n",
    "print '\\nzerosAboveOnes:\\n{0}'.format(zerosAboveOnes)"
   ]
  },
  {
   "cell_type": "markdown",
   "metadata": {},
   "source": [
    "### (3c) PySpark's DenseVector\n",
    "PySpark provides a [DenseVector](https://spark.apache.org/docs/latest/api/python/pyspark.mllib.html#pyspark.mllib.linalg.DenseVector) class within the module [pyspark.mllib.linalg](https://spark.apache.org/docs/latest/api/python/pyspark.mllib.html#module-pyspark.mllib.linalg). `DenseVector` is used to store arrays of values for use in PySpark. `DenseVector` actually stores values in a NumPy array and delegates calculations to that object. You can create a new `DenseVector` using `DenseVector()` and passing in an NumPy array or a Python list.\n",
    "\n",
    "`DenseVector` implements several functions. The only function needed for this course is `DenseVector.dot()`, which operates just like `np.ndarray.dot()`. Note that DenseVector stores all values as `np.float64`, so even if you pass in an NumPy array of integers, the resulting `DenseVector` will contain floating-point numbers. Also, `DenseVector` objects exist locally and are not inherently distributed. DenseVector objects can be used in the distributed setting by either passing functions that contain them to resilient distributed dataset (RDD) transformations or by distributing them directly as RDDs.\n",
    "\n",
    "For this exercise, create a `DenseVector` consisting of the values `[3.0, 4.0, 5.0]` and compute the dot product of this vector with `numpyVector`."
   ]
  },
  {
   "cell_type": "code",
   "execution_count": null,
   "metadata": {
    "collapsed": true
   },
   "outputs": [],
   "source": [
    "from pyspark.mllib.linalg import DenseVector"
   ]
  },
  {
   "cell_type": "code",
   "execution_count": null,
   "metadata": {},
   "outputs": [],
   "source": [
    "numpyVector = np.array([3, 4, 5])\n",
    "print '\\nnumpyVector:\\n{0}'.format(numpyVector)\n",
    "\n",
    "# Create a DenseVector consisting of the values [3.0, 4.0, 5.0]\n",
    "myDenseVector = DenseVector([3.0, 4.0, 5.0])\n",
    "# Calculate the dot product between the two vectors.\n",
    "denseDotProduct = myDenseVector.dot(numpyVector)\n",
    "\n",
    "print 'myDenseVector:\\n{0}'.format(myDenseVector)\n",
    "print '\\ndenseDotProduct:\\n{0}'.format(denseDotProduct)"
   ]
  },
  {
   "cell_type": "markdown",
   "metadata": {},
   "source": [
    "## Part 4: Python lambda expressions"
   ]
  },
  {
   "cell_type": "markdown",
   "metadata": {},
   "source": [
    "### (4a) Lambda is an anonymous function\n",
    "We can use a lambda expression to create a function. To do this, you type `lambda` followed by the names of the function's parameters separated by commas, followed by a `:`, and then the expression statement that the function will evaluate. For example, `lambda x, y: x + y` is an anonymous function that computes the sum of its two inputs.\n",
    "\n",
    "Lambda expressions return a function when evaluated. The function is not bound to any variable, which is why lambdas are associated with anonymous functions. However, it is possible to assign the function to a variable. Lambda expressions are particularly useful when you need to pass a simple function into another function. In that case, the lambda expression generates a function that is bound to the parameter being passed into the function.\n",
    "\n",
    "Below, we'll see an example of how we can bind the function returned by a lambda expression to a variable named `addSLambda`. From this example, we can see that `lambda` provides a shortcut for creating a simple function. Note that the behavior of the function created using `def` and the function created using `lambda` is equivalent. Both functions have the same type and return the same results. The only differences are the names and the way they were created. For this exercise, first run the two cells below to compare a function created using `def` with a corresponding anonymous function. Next, write your own lambda expression that creates a function that multiplies its input (a single parameter) by 10.\n",
    "\n",
    "Here are some additional references that explain lambdas: [Lambda Functions](http://www.secnetix.de/olli/Python/lambda_functions.hawk), [Lambda Tutorial](https://pythonconquerstheuniverse.wordpress.com/2011/08/29/lambda_tutorial/), and [Python Functions](http://www.bogotobogo.com/python/python_functions_lambda.php)."
   ]
  },
  {
   "cell_type": "code",
   "execution_count": null,
   "metadata": {},
   "outputs": [],
   "source": [
    "# Example function\n",
    "def addS(x):\n",
    "    return x + 's'\n",
    "print type(addS)\n",
    "print addS\n",
    "print addS('cat')"
   ]
  },
  {
   "cell_type": "code",
   "execution_count": null,
   "metadata": {},
   "outputs": [],
   "source": [
    "# As a lambda\n",
    "addSLambda = lambda x: x + 's'\n",
    "print type(addSLambda)\n",
    "print addSLambda\n",
    "print addSLambda('cat')"
   ]
  },
  {
   "cell_type": "code",
   "execution_count": null,
   "metadata": {},
   "outputs": [],
   "source": [
    "# Recall that: \"lambda x, y: x + y\" creates a function that adds together two numbers\n",
    "multiplyByTen = lambda x: x * 10\n",
    "print multiplyByTen(5)\n",
    "\n",
    "# Note that the function still shows its name as <lambda>\n",
    "print '\\n', multiplyByTen"
   ]
  },
  {
   "cell_type": "markdown",
   "metadata": {},
   "source": [
    "### (4b) `lambda` fewer steps than `def`\n",
    "`lambda` generates a function and returns it, while `def` generates a function and assigns it to a name. The function returned by `lambda` also automatically returns the value of its expression statement, which reduces the amount of code that needs to be written.\n",
    "\n",
    "For this exercise, recreate the `def` behavior using `lambda`. Note that since a lambda expression returns a function, it can be used anywhere an object is expected. For example, you can create a list of functions where each function in the list was generated by a lambda expression."
   ]
  },
  {
   "cell_type": "code",
   "execution_count": null,
   "metadata": {},
   "outputs": [],
   "source": [
    "# Code using def that we will recreate with lambdas\n",
    "def plus(x, y):\n",
    "    return x + y\n",
    "\n",
    "def minus(x, y):\n",
    "    return x - y\n",
    "\n",
    "functions = [plus, minus]\n",
    "print functions[0](4, 5)\n",
    "print functions[1](4, 5)"
   ]
  },
  {
   "cell_type": "code",
   "execution_count": null,
   "metadata": {},
   "outputs": [],
   "source": [
    "# The first function should add two values, while the second function should subtract the second\n",
    "# value from the first value.\n",
    "lambdaFunctions = [lambda x, y: x+y ,  lambda x, y: x-y]\n",
    "print lambdaFunctions[0](4, 5)\n",
    "print lambdaFunctions[1](4, 5)"
   ]
  },
  {
   "cell_type": "markdown",
   "metadata": {},
   "source": [
    "### (4c) Lambda expression arguments\n",
    "Lambda expressions can be used to generate functions that take in zero or more parameters. The syntax for `lambda` allows for multiple ways to define the same function. For example, we might want to create a function that takes in a single parameter, where the parameter is a tuple consisting of two values, and the function adds the two values together. The syntax could be either: `lambda x: x[0] + x[1]` or `lambda (x0, x1): x0 + x1`. If we called either function on the tuple `(3, 4)` it would return `7`. Note that the second `lambda` relies on the tuple `(3, 4)` being unpacked automatically, which means that `x0` is assigned the value `3` and `x1` is assigned the value `4`.\n",
    "\n",
    "As an other example, consider the following parameter lambda expressions: `lambda x, y: (x[0] + y[0], x[1] + y[1])` and `lambda (x0, x1), (y0, y1): (x0 + y0, x1 + y1)`. The result of applying either of these functions to tuples `(1, 2)` and `(3, 4)` would be the tuple `(4, 6)`.\n",
    "\n",
    "For this exercise: you'll create one-parameter functions `swap1` and `swap2` that swap the order of a tuple; a one-parameter function `swapOrder` that takes in a tuple with three values and changes the order to: second element, third element, first element; and finally, a three-parameter function `sumThree` that takes in three tuples, each with two values, and returns a tuple containing two values: the sum of the first element of each tuple and the sum of second element of each tuple."
   ]
  },
  {
   "cell_type": "code",
   "execution_count": null,
   "metadata": {},
   "outputs": [],
   "source": [
    "# Examples.  Note that the spacing has been modified to distinguish parameters from tuples.\n",
    "\n",
    "# One-parameter function\n",
    "a1 = lambda x: x[0] + x[1]\n",
    "a2 = lambda (x0, x1): x0 + x1\n",
    "print 'a1( (3,4) ) = {0}'.format( a1( (3,4) ) )\n",
    "print 'a2( (3,4) ) = {0}'.format( a2( (3,4) ) )\n",
    "\n",
    "# Two-parameter function\n",
    "b1 = lambda x, y: (x[0] + y[0], x[1] + y[1])\n",
    "b2 = lambda (x0, x1), (y0, y1): (x0 + y0, x1 + y1)\n",
    "print '\\nb1( (1,2), (3,4) ) = {0}'.format( b1( (1,2), (3,4) ) )\n",
    "print 'b2( (1,2), (3,4) ) = {0}'.format( b2( (1,2), (3,4) ) )"
   ]
  },
  {
   "cell_type": "code",
   "execution_count": null,
   "metadata": {},
   "outputs": [],
   "source": [
    "# Use both syntaxes to create a function that takes in a tuple of two values and swaps their order\n",
    "# E.g. (1, 2) => (2, 1)\n",
    "swap1 = lambda x: (x[1], x[0])\n",
    "swap2 = lambda (x0, x1): (x1, x0)\n",
    "print 'swap1((1, 2)) = {0}'.format(swap1((1, 2)))\n",
    "print 'swap2((1, 2)) = {0}'.format(swap2((1, 2)))\n",
    "\n",
    "# Using either syntax, create a function that takes in a tuple with three values and returns a tuple\n",
    "# of (2nd value, 3rd value, 1st value).  E.g. (1, 2, 3) => (2, 3, 1)\n",
    "swapOrder = lambda x: (x[1], x[2], x[0])\n",
    "print 'swapOrder((1, 2, 3)) = {0}'.format(swapOrder((1, 2, 3)))\n",
    "\n",
    "# Using either syntax, create a function that takes in three tuples each with two values.  The\n",
    "# function should return a tuple with the values in the first position summed and the values in the\n",
    "# second position summed. E.g. (1, 2), (3, 4), (5, 6) => (1 + 3 + 5, 2 + 4 + 6) => (9, 12)\n",
    "sumThree = lambda x, y, z: (x[0]+y[0]+z[0], x[1]+y[1]+z[1])\n",
    "print 'sumThree((1, 2), (3, 4), (5, 6)) = {0}'.format(sumThree((1, 2), (3, 4), (5, 6)))"
   ]
  },
  {
   "cell_type": "markdown",
   "metadata": {},
   "source": [
    "### (4d) Restrictions on lambda expressions\n",
    "[Lambda expressions](https://docs.python.org/2/reference/expressions.html#lambda) consist of a single [expression statement](https://docs.python.org/2/reference/simple_stmts.html#expression-statements) and cannot contain other [simple statements](https://docs.python.org/2/reference/simple_stmts.html). In short, this means that the lambda expression needs to evaluate to a value and exist on a single logical line. If more complex logic is necessary, use `def` in place of `lambda`.\n",
    "\n",
    "Expression statements evaluate to a value (sometimes that value is None). Lambda expressions automatically return the value of their expression statement. In fact, a `return` statement in a lambda would raise a `SyntaxError`.\n",
    "The following Python keywords refer to simple statements that cannot be used in a lambda expression: `assert`, `pass`, `del`, `print`, `return`, `yield`, `raise`, `break`, `continue`, `import`, `global`, and `exec`. Also, note that assignment statements (`=`) and augmented assignment statements (e.g. `+=`) cannot be used either."
   ]
  },
  {
   "cell_type": "code",
   "execution_count": null,
   "metadata": {},
   "outputs": [],
   "source": [
    "# Just run this code\n",
    "# This code will fail with a syntax error, as we can't use print in a lambda expression\n",
    "import traceback\n",
    "try:\n",
    "    exec \"lambda x: print x\"\n",
    "except:\n",
    "    traceback.print_exc()"
   ]
  },
  {
   "cell_type": "markdown",
   "metadata": {},
   "source": [
    "(4e) Functional programming\n",
    "The `lambda` examples we have shown so far have been somewhat contrived. This is because they were created to demonstrate the differences and similarities between `lambda` and `def`. An excellent use case for lambda expressions is functional programming. In functional programming, you will often pass functions to other functions as parameters, and `lambda` can be used to reduce the amount of code necessary and to make the code more readable. Some commonly used functions in functional programming are map, filter, and reduce. Map transforms a series of elements by applying a function individually to each element in the series. It then returns the series of transformed elements. Filter also applies a function individually to each element in a series; however, with filter, this function evaluates to `True` or `False` and only elements that evaluate to `True` are retained. Finally, reduce operates on pairs of elements in a series. It applies a function that takes in two values and returns a single value. Using this function, reduce is able to, iteratively, \"reduce\" a series to a single value.\n",
    "\n",
    "For this exercise, you'll create three simple `lambda` functions, one each for use in map, filter, and reduce. The map `lambda` will multiply its input by 5, the filter `lambda` will evaluate to True for even numbers, and the reduce `lambda` will add two numbers.\n",
    "\n",
    ">Note:\n",
    ">    * We have created a class called `FunctionalWrapper` so that the syntax for this exercise matches the syntax you'll see in PySpark.\n",
    ">    * Map requires a one parameter function that returns a new value, filter requires a one parameter function that returns True or False, and reduce requires a two parameter function that combines the two parameters and returns a new value."
   ]
  },
  {
   "cell_type": "code",
   "execution_count": null,
   "metadata": {
    "collapsed": true
   },
   "outputs": [],
   "source": [
    "# Create a class to give our examples the same syntax as PySpark\n",
    "class FunctionalWrapper(object):\n",
    "    def __init__(self, data):\n",
    "        self.data = data\n",
    "    def map(self, function):\n",
    "        \"\"\"Call `map` on the items in `data` using the provided `function`\"\"\"\n",
    "        return FunctionalWrapper(map(function, self.data))\n",
    "    def reduce(self, function):\n",
    "        \"\"\"Call `reduce` on the items in `data` using the provided `function`\"\"\"\n",
    "        return reduce(function, self.data)\n",
    "    def filter(self, function):\n",
    "        \"\"\"Call `filter` on the items in `data` using the provided `function`\"\"\"\n",
    "        return FunctionalWrapper(filter(function, self.data))\n",
    "    def __eq__(self, other):\n",
    "        return (isinstance(other, self.__class__)\n",
    "            and self.__dict__ == other.__dict__)\n",
    "    def __getattr__(self, name):  return getattr(self.data, name)\n",
    "    def __getitem__(self, k):  return self.data.__getitem__(k)\n",
    "    def __repr__(self):  return 'FunctionalWrapper({0})'.format(repr(self.data))\n",
    "    def __str__(self):  return 'FunctionalWrapper({0})'.format(str(self.data))"
   ]
  },
  {
   "cell_type": "code",
   "execution_count": null,
   "metadata": {},
   "outputs": [],
   "source": [
    "# Map example\n",
    "\n",
    "# Create some data\n",
    "mapData = FunctionalWrapper(range(5))\n",
    "\n",
    "# Define a function to be applied to each element\n",
    "f = lambda x: x + 3\n",
    "\n",
    "# Imperative programming: loop through and create a new object by applying f\n",
    "mapResult = FunctionalWrapper([])  # Initialize the result\n",
    "for element in mapData:\n",
    "    mapResult.append(f(element))  # Apply f and save the new value\n",
    "print 'Result from for loop: {0}'.format(mapResult)\n",
    "\n",
    "# Functional programming: use map rather than a for loop\n",
    "print 'Result from map call: {0}'.format(mapData.map(f))\n",
    "\n",
    "# Note that the results are the same but that the map function abstracts away the implementation\n",
    "# and requires less code"
   ]
  },
  {
   "cell_type": "code",
   "execution_count": null,
   "metadata": {},
   "outputs": [],
   "source": [
    "dataset = FunctionalWrapper(range(10))\n",
    "\n",
    "# Multiply each element by 5\n",
    "mapResult = dataset.map(lambda x: x*5)\n",
    "# Keep the even elements\n",
    "# Note that \"x % 2\" evaluates to the remainder of x divided by 2\n",
    "filterResult = dataset.filter(lambda x: x % 2 == 0)\n",
    "# Sum the elements\n",
    "reduceResult = dataset.reduce(lambda x, y: x+y)\n",
    "\n",
    "print 'mapResult: {0}'.format(mapResult)\n",
    "print '\\nfilterResult: {0}'.format(filterResult)\n",
    "print '\\nreduceResult: {0}'.format(reduceResult)"
   ]
  },
  {
   "cell_type": "markdown",
   "metadata": {},
   "source": [
    "### (4f) Composability\n",
    "Since our methods for map and filter in the `FunctionalWrapper` class return `FunctionalWrapper` objects, we can compose (or chain) together our function calls. For example, `dataset.map(f1).filter(f2).reduce(f3)`, where `f1`, `f2`, and `f3` are functions or lambda expressions, first applies a map operation to `dataset`, then filters the result from map, and finally reduces the result from the first two operations.\n",
    "\n",
    "Note that when we compose (chain) an operation, the output of one operation becomes the input for the next operation, and operations are applied from left to right. It's likely you've seen chaining used with Python strings. For example, `'Split this'.lower().split(' ')` first returns a new string object `'split this'` and then `split(' ')` is called on that string to produce `['split', 'this']`.\n",
    "\n",
    "For this exercise, reuse your lambda expressions from (4e) but apply them to `dataset` in the sequence: map, filter, reduce.\n",
    "\n",
    ">Note:\n",
    "> * Since we are composing the operations our result will be different than in (4e).\n",
    "> * We can write our operations on separate lines to improve readability."
   ]
  },
  {
   "cell_type": "code",
   "execution_count": null,
   "metadata": {},
   "outputs": [],
   "source": [
    "# Example of a multi-line expression statement\n",
    "# Note that placing parentheses around the expression allows it to exist on multiple lines without\n",
    "# causing a syntax error.\n",
    "(dataset\n",
    " .map(lambda x: x + 2)\n",
    " .reduce(lambda x, y: x * y))"
   ]
  },
  {
   "cell_type": "code",
   "execution_count": null,
   "metadata": {},
   "outputs": [],
   "source": [
    "# Multiply the elements in dataset by five, keep just the even values, and sum those values\n",
    "finalSum = dataset.map(lambda x: x*5).filter(lambda x: x%2 == 0).reduce(lambda x, y: x+y)\n",
    "print finalSum"
   ]
  },
  {
   "cell_type": "code",
   "execution_count": null,
   "metadata": {
    "collapsed": true
   },
   "outputs": [],
   "source": []
  }
 ],
 "metadata": {
  "kernelspec": {
   "display_name": "Python 2",
   "language": "python",
   "name": "python2"
  },
  "language_info": {
   "codemirror_mode": {
    "name": "ipython",
    "version": 2
   },
   "file_extension": ".py",
   "mimetype": "text/x-python",
   "name": "python",
   "nbconvert_exporter": "python",
   "pygments_lexer": "ipython2",
   "version": "2.7.6"
  }
 },
 "nbformat": 4,
 "nbformat_minor": 2
}
