{
 "cells": [
  {
   "cell_type": "code",
   "execution_count": 2,
   "metadata": {},
   "outputs": [
    {
     "name": "stdout",
     "output_type": "stream",
     "text": [
      "+-----+\n",
      "|count|\n",
      "+-----+\n",
      "|   10|\n",
      "|   20|\n",
      "|    5|\n",
      "+-----+\n",
      "\n"
     ]
    }
   ],
   "source": [
    "throwaway_df = sqlContext.createDataFrame([('Anthony', 10), ('Julia', 20), ('Fred', 5)], ('name', 'count'))\n",
    "throwaway_df.select(throwaway_df['count']).show()"
   ]
  },
  {
   "cell_type": "code",
   "execution_count": 3,
   "metadata": {},
   "outputs": [
    {
     "name": "stdout",
     "output_type": "stream",
     "text": [
      "def\n",
      "This was last run on: 2017-04-27 14:17:58.795141\n"
     ]
    }
   ],
   "source": [
    "import re\n",
    "import datetime\n",
    "\n",
    "#Quick test of regular expression library\n",
    "m = re.search('(?<=abc)def', 'abcdef')\n",
    "print(m.group(0))\n",
    "\n",
    "#Quick test of the datetime library\n",
    "print('This was last run on: {0}'.format(datetime.datetime.now()))"
   ]
  },
  {
   "cell_type": "code",
   "execution_count": 4,
   "metadata": {},
   "outputs": [
    {
     "name": "stdout",
     "output_type": "stream",
     "text": [
      "root\n",
      " |-- value: string (nullable = true)\n",
      "\n"
     ]
    }
   ],
   "source": [
    "import sys\n",
    "import os\n",
    "log_file_path = 'hdfs:/' + os.path.join('user', 'root', 'NASA_access_log_Jul95')\n",
    "base_df = sqlContext.read.text(log_file_path)\n",
    "base_df.printSchema()"
   ]
  },
  {
   "cell_type": "code",
   "execution_count": 5,
   "metadata": {},
   "outputs": [
    {
     "data": {
      "text/plain": [
       "1891715"
      ]
     },
     "execution_count": 5,
     "metadata": {},
     "output_type": "execute_result"
    }
   ],
   "source": [
    "base_df.count()"
   ]
  },
  {
   "cell_type": "code",
   "execution_count": 6,
   "metadata": {
    "scrolled": true
   },
   "outputs": [
    {
     "name": "stdout",
     "output_type": "stream",
     "text": [
      "+--------------------------+--------------------------+-------------------------------------------------+------+------------+\n",
      "|host                      |timestamp                 |path                                             |status|content_size|\n",
      "+--------------------------+--------------------------+-------------------------------------------------+------+------------+\n",
      "|199.72.81.55              |01/Jul/1995:00:00:01 -0400|/history/apollo/                                 |200   |6245        |\n",
      "|unicomp6.unicomp.net      |01/Jul/1995:00:00:06 -0400|/shuttle/countdown/                              |200   |3985        |\n",
      "|199.120.110.21            |01/Jul/1995:00:00:09 -0400|/shuttle/missions/sts-73/mission-sts-73.html     |200   |4085        |\n",
      "|burger.letters.com        |01/Jul/1995:00:00:11 -0400|/shuttle/countdown/liftoff.html                  |304   |0           |\n",
      "|199.120.110.21            |01/Jul/1995:00:00:11 -0400|/shuttle/missions/sts-73/sts-73-patch-small.gif  |200   |4179        |\n",
      "|burger.letters.com        |01/Jul/1995:00:00:12 -0400|/images/NASA-logosmall.gif                       |304   |0           |\n",
      "|burger.letters.com        |01/Jul/1995:00:00:12 -0400|/shuttle/countdown/video/livevideo.gif           |200   |0           |\n",
      "|205.212.115.106           |01/Jul/1995:00:00:12 -0400|/shuttle/countdown/countdown.html                |200   |3985        |\n",
      "|d104.aa.net               |01/Jul/1995:00:00:13 -0400|/shuttle/countdown/                              |200   |3985        |\n",
      "|129.94.144.152            |01/Jul/1995:00:00:13 -0400|/                                                |200   |7074        |\n",
      "|unicomp6.unicomp.net      |01/Jul/1995:00:00:14 -0400|/shuttle/countdown/count.gif                     |200   |40310       |\n",
      "|unicomp6.unicomp.net      |01/Jul/1995:00:00:14 -0400|/images/NASA-logosmall.gif                       |200   |786         |\n",
      "|unicomp6.unicomp.net      |01/Jul/1995:00:00:14 -0400|/images/KSC-logosmall.gif                        |200   |1204        |\n",
      "|d104.aa.net               |01/Jul/1995:00:00:15 -0400|/shuttle/countdown/count.gif                     |200   |40310       |\n",
      "|d104.aa.net               |01/Jul/1995:00:00:15 -0400|/images/NASA-logosmall.gif                       |200   |786         |\n",
      "|d104.aa.net               |01/Jul/1995:00:00:15 -0400|/images/KSC-logosmall.gif                        |200   |1204        |\n",
      "|129.94.144.152            |01/Jul/1995:00:00:17 -0400|/images/ksclogo-medium.gif                       |304   |0           |\n",
      "|199.120.110.21            |01/Jul/1995:00:00:17 -0400|/images/launch-logo.gif                          |200   |1713        |\n",
      "|ppptky391.asahi-net.or.jp |01/Jul/1995:00:00:18 -0400|/facts/about_ksc.html                            |200   |3977        |\n",
      "|net-1-141.eden.com        |01/Jul/1995:00:00:19 -0400|/shuttle/missions/sts-71/images/KSC-95EC-0916.jpg|200   |34029       |\n",
      "+--------------------------+--------------------------+-------------------------------------------------+------+------------+\n",
      "only showing top 20 rows\n",
      "\n"
     ]
    }
   ],
   "source": [
    "from pyspark.sql.functions import split, regexp_extract\n",
    "split_df = base_df.select(regexp_extract('value', r'^([^\\s]+\\s)', 1).alias('host'),\n",
    "                          regexp_extract('value', r'^.*\\[(\\d\\d/\\w{3}/\\d{4}:\\d{2}:\\d{2}:\\d{2} -\\d{4})]', 1).alias('timestamp'),\n",
    "                          regexp_extract('value', r'^.*\"\\w+\\s+([^\\s]+)\\s+HTTP.*\"', 1).alias('path'),\n",
    "                          regexp_extract('value', r'^.*\"\\s+([^\\s]+)', 1).cast('integer').alias('status'),\n",
    "                          regexp_extract('value', r'^.*\\s+(\\d+)$', 1).cast('integer').alias('content_size')).dropna(subset='status')\n",
    "split_df.show(truncate=False)"
   ]
  },
  {
   "cell_type": "code",
   "execution_count": 7,
   "metadata": {},
   "outputs": [
    {
     "data": {
      "text/plain": [
       "0"
      ]
     },
     "execution_count": 7,
     "metadata": {},
     "output_type": "execute_result"
    }
   ],
   "source": [
    "base_df.filter(base_df['value'].isNull()).count()"
   ]
  },
  {
   "cell_type": "code",
   "execution_count": 8,
   "metadata": {
    "scrolled": true
   },
   "outputs": [
    {
     "data": {
      "text/plain": [
       "19726"
      ]
     },
     "execution_count": 8,
     "metadata": {},
     "output_type": "execute_result"
    }
   ],
   "source": [
    "bad_rows_df = split_df.filter(split_df['host'].isNull() |\n",
    "                              split_df['timestamp'].isNull() |\n",
    "                              split_df['path'].isNull() |\n",
    "                              split_df['status'].isNull() |\n",
    "                              split_df['content_size'].isNull()\n",
    "                              )\n",
    "bad_rows_df.count()"
   ]
  },
  {
   "cell_type": "code",
   "execution_count": 9,
   "metadata": {},
   "outputs": [
    {
     "name": "stdout",
     "output_type": "stream",
     "text": [
      "+----+---------+----+------+------------+\n",
      "|host|timestamp|path|status|content_size|\n",
      "+----+---------+----+------+------------+\n",
      "|   0|        0|   0|     0|       19726|\n",
      "+----+---------+----+------+------------+\n",
      "\n"
     ]
    }
   ],
   "source": [
    "from pyspark.sql.functions import col, sum\n",
    "def count_null(col_name):\n",
    "    return sum(col(col_name).isNull().cast('integer')).alias(col_name)\n",
    "exprs = [count_null(col_name) for col_name in split_df.columns]\n",
    "split_df.agg(*exprs).show()"
   ]
  },
  {
   "cell_type": "code",
   "execution_count": 10,
   "metadata": {},
   "outputs": [
    {
     "data": {
      "text/plain": [
       "19727"
      ]
     },
     "execution_count": 10,
     "metadata": {},
     "output_type": "execute_result"
    }
   ],
   "source": [
    "from pyspark.sql.functions import lit, concat\n",
    "bad_content_size_df = base_df.filter(~ base_df['value'].rlike(r'\\d+$'))\n",
    "bad_content_size_df.count()"
   ]
  },
  {
   "cell_type": "code",
   "execution_count": 11,
   "metadata": {},
   "outputs": [
    {
     "name": "stdout",
     "output_type": "stream",
     "text": [
      "+----+---------+----+------+------------+\n",
      "|host|timestamp|path|status|content_size|\n",
      "+----+---------+----+------+------------+\n",
      "|   0|        0|   0|     0|           0|\n",
      "+----+---------+----+------+------------+\n",
      "\n"
     ]
    }
   ],
   "source": [
    "cleaned_df = split_df.na.fill({'content_size': 0})\n",
    "exprs = [count_null(col_name) for col_name in cleaned_df.columns]\n",
    "cleaned_df.agg(*exprs).show()"
   ]
  },
  {
   "cell_type": "code",
   "execution_count": 12,
   "metadata": {},
   "outputs": [
    {
     "name": "stdout",
     "output_type": "stream",
     "text": [
      "root\n",
      " |-- host: string (nullable = true)\n",
      " |-- path: string (nullable = true)\n",
      " |-- status: integer (nullable = true)\n",
      " |-- content_size: integer (nullable = false)\n",
      " |-- time: timestamp (nullable = true)\n",
      "\n"
     ]
    }
   ],
   "source": [
    "from pyspark.sql.functions import udf\n",
    "\n",
    "month_map = {\n",
    "    'Jan': 1, 'Feb': 2, 'Mar': 3, 'Apr': 4, 'May': 5, 'Jun': 6,\n",
    "    'Jul': 7, 'Aug': 8, 'Sep': 9, 'Oct': 10, 'Nov': 11, 'Dec': 12\n",
    "}\n",
    "\n",
    "def parse_clf_time(s):\n",
    "    return \"{0:02d}-{1:02d}-{2:04d} {3:02d}:{4:02d}:{5:02d}\".format(\n",
    "        int(s[7:11]),\n",
    "        month_map[s[3:6]],\n",
    "        int(s[0:2]),\n",
    "        int(s[12:14]),\n",
    "        int(s[15:17]),\n",
    "        int(s[18:20])\n",
    "    )\n",
    "\n",
    "u_parse_time = udf(parse_clf_time)\n",
    "logs_df = cleaned_df.select('*', u_parse_time(split_df['timestamp']).cast('timestamp').alias('time')).drop('timestamp')\n",
    "total_log_entries = logs_df.count()\n",
    "\n",
    "logs_df.printSchema()"
   ]
  },
  {
   "cell_type": "code",
   "execution_count": 13,
   "metadata": {},
   "outputs": [
    {
     "name": "stdout",
     "output_type": "stream",
     "text": [
      "+--------------------+--------------------+------+------------+--------------------+\n",
      "|                host|                path|status|content_size|                time|\n",
      "+--------------------+--------------------+------+------------+--------------------+\n",
      "|       199.72.81.55 |    /history/apollo/|   200|        6245|1995-07-01 00:00:...|\n",
      "|unicomp6.unicomp....| /shuttle/countdown/|   200|        3985|1995-07-01 00:00:...|\n",
      "|     199.120.110.21 |/shuttle/missions...|   200|        4085|1995-07-01 00:00:...|\n",
      "| burger.letters.com |/shuttle/countdow...|   304|           0|1995-07-01 00:00:...|\n",
      "|     199.120.110.21 |/shuttle/missions...|   200|        4179|1995-07-01 00:00:...|\n",
      "| burger.letters.com |/images/NASA-logo...|   304|           0|1995-07-01 00:00:...|\n",
      "| burger.letters.com |/shuttle/countdow...|   200|           0|1995-07-01 00:00:...|\n",
      "|    205.212.115.106 |/shuttle/countdow...|   200|        3985|1995-07-01 00:00:...|\n",
      "|        d104.aa.net | /shuttle/countdown/|   200|        3985|1995-07-01 00:00:...|\n",
      "|     129.94.144.152 |                   /|   200|        7074|1995-07-01 00:00:...|\n",
      "|unicomp6.unicomp....|/shuttle/countdow...|   200|       40310|1995-07-01 00:00:...|\n",
      "|unicomp6.unicomp....|/images/NASA-logo...|   200|         786|1995-07-01 00:00:...|\n",
      "|unicomp6.unicomp....|/images/KSC-logos...|   200|        1204|1995-07-01 00:00:...|\n",
      "|        d104.aa.net |/shuttle/countdow...|   200|       40310|1995-07-01 00:00:...|\n",
      "|        d104.aa.net |/images/NASA-logo...|   200|         786|1995-07-01 00:00:...|\n",
      "|        d104.aa.net |/images/KSC-logos...|   200|        1204|1995-07-01 00:00:...|\n",
      "|     129.94.144.152 |/images/ksclogo-m...|   304|           0|1995-07-01 00:00:...|\n",
      "|     199.120.110.21 |/images/launch-lo...|   200|        1713|1995-07-01 00:00:...|\n",
      "|ppptky391.asahi-n...|/facts/about_ksc....|   200|        3977|1995-07-01 00:00:...|\n",
      "| net-1-141.eden.com |/shuttle/missions...|   200|       34029|1995-07-01 00:00:...|\n",
      "+--------------------+--------------------+------+------------+--------------------+\n",
      "only showing top 20 rows\n",
      "\n",
      "1891714\n"
     ]
    }
   ],
   "source": [
    "logs_df.show(truncate=True)\n",
    "print(total_log_entries)\n",
    "#logs_df.cache()"
   ]
  },
  {
   "cell_type": "code",
   "execution_count": 14,
   "metadata": {},
   "outputs": [
    {
     "name": "stdout",
     "output_type": "stream",
     "text": [
      "+-------+------------------+\n",
      "|summary|      content_size|\n",
      "+-------+------------------+\n",
      "|  count|           1891714|\n",
      "|   mean|20455.509390425825|\n",
      "| stddev|  76957.4154501093|\n",
      "|    min|                 0|\n",
      "|    max|           6823936|\n",
      "+-------+------------------+\n",
      "\n"
     ]
    }
   ],
   "source": [
    "content_size_summary_df = logs_df.describe(['content_size'])\n",
    "content_size_summary_df.show()"
   ]
  },
  {
   "cell_type": "code",
   "execution_count": 15,
   "metadata": {},
   "outputs": [
    {
     "name": "stdout",
     "output_type": "stream",
     "text": [
      "Using SQL Functions: \n",
      "Content Size Avg: 20,455.51; Min: 0.00; Max: 6,823,936\n"
     ]
    }
   ],
   "source": [
    "from pyspark.sql import functions as sqlFunctions\n",
    "content_size_stats = (logs_df\n",
    "                      .agg(sqlFunctions.min(logs_df['content_size']),\n",
    "                           sqlFunctions.avg(logs_df['content_size']),\n",
    "                           sqlFunctions.max(logs_df['content_size']))\n",
    "                      .first())\n",
    "\n",
    "print('Using SQL Functions: ')\n",
    "print('Content Size Avg: {1:,.2f}; Min: {0:,.2f}; Max: {2:,.0f}'.format(*content_size_stats))"
   ]
  },
  {
   "cell_type": "code",
   "execution_count": 16,
   "metadata": {},
   "outputs": [
    {
     "name": "stdout",
     "output_type": "stream",
     "text": [
      "Found 8 response codes\n",
      "+------+-------+\n",
      "|status|  count|\n",
      "+------+-------+\n",
      "|   200|1701534|\n",
      "|   302|  46573|\n",
      "|   304| 132627|\n",
      "|   400|      5|\n",
      "|   403|     54|\n",
      "|   404|  10845|\n",
      "|   500|     62|\n",
      "|   501|     14|\n",
      "+------+-------+\n",
      "\n"
     ]
    }
   ],
   "source": [
    "status_to_count_df = (logs_df\n",
    "                      .groupBy('status')\n",
    "                      .count()\n",
    "                      .sort('status')\n",
    "                      .cache())\n",
    "status_to_count_length = status_to_count_df.count()\n",
    "print('Found %d response codes'%status_to_count_length)\n",
    "status_to_count_df.show()"
   ]
  },
  {
   "cell_type": "code",
   "execution_count": 17,
   "metadata": {},
   "outputs": [
    {
     "name": "stdout",
     "output_type": "stream",
     "text": [
      "+----------------------------+\n",
      "|host                        |\n",
      "+----------------------------+\n",
      "|picard.microsys.net         |\n",
      "|ts900-418.singnet.com.sg    |\n",
      "|winnie.freenet.mb.ca        |\n",
      "|alpha2.csd.uwm.edu          |\n",
      "|ivy-b0.aip.realtime.net     |\n",
      "|maria-4e.ip.realtime.net    |\n",
      "|kauai-9.u.aloha.net         |\n",
      "|edinburgh3.easynet.co.uk    |\n",
      "|192.127.29.43               |\n",
      "|st2158.infonet.tufts.edu    |\n",
      "|moe06.slip.yorku.ca         |\n",
      "|lcy-ip19.halcyon.com        |\n",
      "|pm1-orl7.iag.net            |\n",
      "|dd08-044.compuserve.com     |\n",
      "|146.154.26.105              |\n",
      "|nrba1_onlink9.onlink.net    |\n",
      "|drjo006a168.embratel.net.br |\n",
      "|grail606.nando.net          |\n",
      "|dd04-016.compuserve.com     |\n",
      "|134.157.11.7                |\n",
      "+----------------------------+\n",
      "only showing top 20 rows\n",
      "\n"
     ]
    }
   ],
   "source": [
    "host_sum_df = (logs_df\n",
    "               .groupBy('host')\n",
    "               .count())\n",
    "host_more_than_10_df = (host_sum_df\n",
    "                        .filter(host_sum_df['count']>10)\n",
    "                        .select(host_sum_df['host']))\n",
    "host_more_than_10_df.show(truncate=False)"
   ]
  },
  {
   "cell_type": "code",
   "execution_count": 18,
   "metadata": {},
   "outputs": [],
   "source": [
    "paths_df = (logs_df\n",
    "            .groupBy('path')\n",
    "            .count()\n",
    "            .sort('count',ascending=False))\n",
    "paths_counts = (paths_df\n",
    "                .select('path', 'count')\n",
    "                .rdd.map(lambda r:(r[0],r[1]))\n",
    "                .collect())\n",
    "paths, counts = zip(*paths_counts)"
   ]
  },
  {
   "cell_type": "code",
   "execution_count": 19,
   "metadata": {},
   "outputs": [
    {
     "name": "stdout",
     "output_type": "stream",
     "text": [
      "Top Ten Paths:\n",
      "+----------------------------+------+\n",
      "|path                        |count |\n",
      "+----------------------------+------+\n",
      "|/images/NASA-logosmall.gif  |111087|\n",
      "|/images/KSC-logosmall.gif   |89530 |\n",
      "|/images/MOSAIC-logosmall.gif|60300 |\n",
      "|/images/USA-logosmall.gif   |59845 |\n",
      "|/images/WORLD-logosmall.gif |59325 |\n",
      "|/images/ksclogo-medium.gif  |58616 |\n",
      "|/images/launch-logo.gif     |40841 |\n",
      "|/shuttle/countdown/         |40251 |\n",
      "|/ksc.html                   |40067 |\n",
      "|/images/ksclogosmall.gif    |33555 |\n",
      "+----------------------------+------+\n",
      "only showing top 10 rows\n",
      "\n"
     ]
    }
   ],
   "source": [
    "print('Top Ten Paths:')\n",
    "paths_df.show(truncate=False, n=10)"
   ]
  },
  {
   "cell_type": "code",
   "execution_count": 20,
   "metadata": {},
   "outputs": [
    {
     "name": "stdout",
     "output_type": "stream",
     "text": [
      "+--------------------+--------------------+------+------------+--------------------+\n",
      "|                host|                path|status|content_size|                time|\n",
      "+--------------------+--------------------+------+------------+--------------------+\n",
      "| burger.letters.com |/shuttle/countdow...|   304|           0|1995-07-01 00:00:...|\n",
      "| burger.letters.com |/images/NASA-logo...|   304|           0|1995-07-01 00:00:...|\n",
      "|     129.94.144.152 |/images/ksclogo-m...|   304|           0|1995-07-01 00:00:...|\n",
      "|     205.189.154.54 |/cgi-bin/imagemap...|   302|         110|1995-07-01 00:01:...|\n",
      "|dd15-062.compuser...|/news/sci.space.s...|   404|           0|1995-07-01 00:01:...|\n",
      "| onyx.southwind.net |/images/KSC-logos...|   304|           0|1995-07-01 00:01:...|\n",
      "|remote27.compusma...|/cgi-bin/imagemap...|   302|         110|1995-07-01 00:01:...|\n",
      "|  netport-27.iu.net |/images/ksclogo-m...|   304|           0|1995-07-01 00:02:...|\n",
      "|  netport-27.iu.net |/images/NASA-logo...|   304|           0|1995-07-01 00:02:...|\n",
      "|  netport-27.iu.net |/images/MOSAIC-lo...|   304|           0|1995-07-01 00:02:...|\n",
      "+--------------------+--------------------+------+------------+--------------------+\n",
      "only showing top 10 rows\n",
      "\n",
      "Top 10 failed URLs: \n",
      "+--------------------------------------+-----+\n",
      "|path                                  |count|\n",
      "+--------------------------------------+-----+\n",
      "|/images/NASA-logosmall.gif            |21010|\n",
      "|/images/KSC-logosmall.gif             |12435|\n",
      "|/images/MOSAIC-logosmall.gif          |6628 |\n",
      "|/images/USA-logosmall.gif             |6577 |\n",
      "|/images/WORLD-logosmall.gif           |6413 |\n",
      "|/images/ksclogo-medium.gif            |5837 |\n",
      "|/images/launch-logo.gif               |4628 |\n",
      "|/shuttle/countdown/liftoff.html       |3509 |\n",
      "|/shuttle/countdown/                   |3345 |\n",
      "|/shuttle/countdown/images/cdtclock.gif|3251 |\n",
      "+--------------------------------------+-----+\n",
      "only showing top 10 rows\n",
      "\n"
     ]
    }
   ],
   "source": [
    "from pyspark.sql.functions import desc\n",
    "not200DF = logs_df.filter(col('status')!=200)\n",
    "not200DF.show(n=10)\n",
    "logs_sum_df = (not200DF\n",
    "               .groupBy('path')\n",
    "               .count()\n",
    "               .orderBy(col('count').desc()))\n",
    "print('Top 10 failed URLs: ')\n",
    "logs_sum_df.show(truncate=False, n=10)"
   ]
  },
  {
   "cell_type": "code",
   "execution_count": 21,
   "metadata": {},
   "outputs": [
    {
     "name": "stdout",
     "output_type": "stream",
     "text": [
      "Unique hosts: 81982\n"
     ]
    }
   ],
   "source": [
    "from pyspark.sql.functions import countDistinct\n",
    "unique_host_count = logs_df.agg(countDistinct(col('host'))).head()[0]\n",
    "print('Unique hosts: {0}'.format(unique_host_count))"
   ]
  },
  {
   "cell_type": "code",
   "execution_count": 22,
   "metadata": {},
   "outputs": [
    {
     "name": "stdout",
     "output_type": "stream",
     "text": [
      "Unique hosts per day:\n",
      "+---+-----+\n",
      "|day|count|\n",
      "+---+-----+\n",
      "|1  |5192 |\n",
      "|2  |4859 |\n",
      "|3  |7336 |\n",
      "|4  |5524 |\n",
      "|5  |7383 |\n",
      "|6  |7820 |\n",
      "|7  |6474 |\n",
      "|8  |2898 |\n",
      "|9  |2554 |\n",
      "|10 |4464 |\n",
      "|11 |4927 |\n",
      "|12 |5345 |\n",
      "|13 |6951 |\n",
      "|14 |5297 |\n",
      "|15 |3116 |\n",
      "|16 |3013 |\n",
      "|17 |4943 |\n",
      "|18 |4523 |\n",
      "|19 |4919 |\n",
      "|20 |4729 |\n",
      "|21 |4339 |\n",
      "|22 |2575 |\n",
      "|23 |2635 |\n",
      "|24 |4298 |\n",
      "|25 |4376 |\n",
      "|26 |4296 |\n",
      "|27 |4368 |\n",
      "|28 |2175 |\n",
      "+---+-----+\n",
      "\n"
     ]
    }
   ],
   "source": [
    "from pyspark.sql.functions import dayofmonth\n",
    "day_to_host_pair_df = (logs_df\n",
    "                       .select(col('host'), dayofmonth(col('time'))\n",
    "                       .alias('day')))\n",
    "day_group_hosts_df = day_to_host_pair_df.distinct()\n",
    "daily_hosts_df = (day_group_hosts_df\n",
    "                  .groupBy(col('day'))\n",
    "                  .count()\n",
    "                  .orderBy('day')\n",
    "                 )\n",
    "print('Unique hosts per day:')\n",
    "daily_hosts_df.show(truncate=False, n=30)"
   ]
  },
  {
   "cell_type": "code",
   "execution_count": 23,
   "metadata": {},
   "outputs": [
    {
     "name": "stdout",
     "output_type": "stream",
     "text": [
      "[1, 2, 3, 4, 5, 6, 7, 8, 9, 10, 11, 12, 13, 14, 15, 16, 17, 18, 19, 20, 21, 22, 23, 24, 25, 26, 27, 28]\n",
      "[5192, 4859, 7336, 5524, 7383, 7820, 6474, 2898, 2554, 4464, 4927, 5345, 6951, 5297, 3116, 3013, 4943, 4523, 4919, 4729, 4339, 2575, 2635, 4298, 4376, 4296, 4368, 2175]\n"
     ]
    }
   ],
   "source": [
    "rows = daily_hosts_df.collect()\n",
    "days_with_hosts = daily_hosts_df.rdd.map(lambda r: r[0]).collect()\n",
    "hosts = daily_hosts_df.rdd.map(lambda r:r[1]).collect()\n",
    "print(days_with_hosts)\n",
    "print(hosts)"
   ]
  },
  {
   "cell_type": "code",
   "execution_count": 25,
   "metadata": {
    "scrolled": true
   },
   "outputs": [
    {
     "name": "stdout",
     "output_type": "stream",
     "text": [
      "Average number of daily requests per Hosts is :\n",
      "+---+-------------------------+\n",
      "|day|avg_reqs_per_host_per_day|\n",
      "+---+-------------------------+\n",
      "|  1|       12.464175654853621|\n",
      "|  2|        12.40275776908829|\n",
      "|  3|       12.211559432933479|\n",
      "|  4|       12.753801593048516|\n",
      "|  5|       12.809833401056482|\n",
      "|  6|       12.910485933503836|\n",
      "|  7|       13.474358974358974|\n",
      "|  8|       13.411663216011043|\n",
      "|  9|       13.810493343774471|\n",
      "| 10|        16.32168458781362|\n",
      "| 11|       16.319667140247613|\n",
      "| 12|       17.312628624883068|\n",
      "| 13|       19.307006186160265|\n",
      "| 14|       15.877477817632622|\n",
      "| 15|        14.61232349165597|\n",
      "| 16|       15.882509127115831|\n",
      "| 17|       15.169128059882663|\n",
      "| 18|       14.212248507627681|\n",
      "| 19|       14.787151860134173|\n",
      "| 20|       14.081835483188835|\n",
      "| 21|       14.894906660520858|\n",
      "| 22|       13.695922330097087|\n",
      "| 23|       14.876280834914612|\n",
      "| 24|       14.950907398790134|\n",
      "| 25|        14.32792504570384|\n",
      "| 26|       13.698556797020483|\n",
      "| 27|        14.12087912087912|\n",
      "| 28|       12.469425287356321|\n",
      "+---+-------------------------+\n",
      "\n"
     ]
    }
   ],
   "source": [
    "total_req_per_day_df = (logs_df\n",
    "                        .groupBy(dayofmonth(col('time')).alias('day'))\n",
    "                        .count())\n",
    "avg_daily_req_per_host_df = (total_req_per_day_df\n",
    "                             .join(daily_hosts_df, daily_hosts_df['day']==total_req_per_day_df['day'],'outer')\n",
    "                             .select(daily_hosts_df['day'],(total_req_per_day_df['count']/daily_hosts_df['count']).alias('avg_reqs_per_host_per_day')))\n",
    "print('Average number of daily requests per Hosts is :')\n",
    "avg_daily_req_per_host_df.sort('day').show(n=30)\n",
    "days_with_avg = avg_daily_req_per_host_df.rdd.map(lambda r:r[0]).collect()\n",
    "avgs = avg_daily_req_per_host_df.rdd.map(lambda r:r[1]).collect()"
   ]
  },
  {
   "cell_type": "code",
   "execution_count": 28,
   "metadata": {
    "scrolled": true
   },
   "outputs": [
    {
     "name": "stdout",
     "output_type": "stream",
     "text": [
      "Found 10845 404 URLs\n"
     ]
    }
   ],
   "source": [
    "not_found_df = logs_df.filter(col('status')==404)\n",
    "print('Found {0} 404 URLs'.format(not_found_df.count()))"
   ]
  },
  {
   "cell_type": "code",
   "execution_count": 30,
   "metadata": {},
   "outputs": [
    {
     "name": "stdout",
     "output_type": "stream",
     "text": [
      "404 URLs: \n",
      "+-----------------------------------------------------------------+\n",
      "|path                                                             |\n",
      "+-----------------------------------------------------------------+\n",
      "|/history/apollo/a-001/news/                                      |\n",
      "|/shuttle/missions/sts-68/images/images.html                      |\n",
      "|/history/apollo/apollo-13/apollo-13.html)                        |\n",
      "|/shuttle/sts-71/movies                                           |\n",
      "|/shuttle/missions/sts-77/ht                                      |\n",
      "|/htbin/freq                                                      |\n",
      "|/Harvest/brokers/WWW/stats.html                                  |\n",
      "|/home/guided-tour.html                                           |\n",
      "|/shuttle/technology/sts-newsref/sts_sys.html#sts-flag            |\n",
      "|/history/apollo/a-003/movies/                                    |\n",
      "|/shuttle/technology/sts-newsref/sts_overview.ht                  |\n",
      "|/local                                                           |\n",
      "|/software///icons/menu.xbm                                       |\n",
      "|/software//viewers/icons/blank.xbm                               |\n",
      "|/shuttle/mission/missions.html                                   |\n",
      "|/shuttle/technology/sts.newsref/stsref-tof.html                  |\n",
      "|/shuttle/missions/sts-71/news/sts-71-mcc-9.txt                   |\n",
      "|/History/Apollo/Apollo13/Apollo.html                             |\n",
      "|/voyager/bundy:hshshs                                            |\n",
      "|/WWW.html                                                        |\n",
      "|/shuttle/mission/41-d/mission-41-d.html                          |\n",
      "|/GIF/nasaball.gif                                                |\n",
      "|/shuttle/missions/sts.71/movies                                  |\n",
      "|/MDSS.html                                                       |\n",
      "|/shuttle/technology/sts-newsref/stsover-launch.html#stsover-orbit|\n",
      "|/history/apollo/apollo14/apollo14.html                           |\n",
      "|/shuttle/missions/sts-70/movies/movies.html5                     |\n",
      "|/shuttle/missions/sts-71/news/ksc-status-07-01-95.txt            |\n",
      "|/history/apollo/images/apollo.html                               |\n",
      "|/first.html                                                      |\n",
      "|/shuttle/missions/sts-71/images/KSC-95EC-0916.txt                |\n",
      "|/shuttle/technology/images/sts-comm-small.gif                    |\n",
      "|/imagemap.cgi//sts-71.map?334,283                                |\n",
      "|/shuttle/technology/sts-newsrefstsref-toc.html                   |\n",
      "|/shuttle/missions/sts-74/ht                                      |\n",
      "|/countdown/countdown                                             |\n",
      "|/sts-59                                                          |\n",
      "|/history/apollo.htm1                                             |\n",
      "|/shuttle/technology/sts-newsref/sts_asm.html#sts_asm             |\n",
      "|/shuttle/missions/sts-68/mission-sts-69.html                     |\n",
      "+-----------------------------------------------------------------+\n",
      "only showing top 40 rows\n",
      "\n"
     ]
    }
   ],
   "source": [
    "not_found_paths_df = not_found_df.select('path')\n",
    "unique_not_found_paths_df  = not_found_paths_df.distinct()\n",
    "print('404 URLs: ')\n",
    "unique_not_found_paths_df.show(truncate=False, n=40)"
   ]
  },
  {
   "cell_type": "code",
   "execution_count": 31,
   "metadata": {},
   "outputs": [
    {
     "name": "stdout",
     "output_type": "stream",
     "text": [
      "Top 20 404 URLs:\n",
      "+-----------------------------------------------------------------+-----+\n",
      "|path                                                             |count|\n",
      "+-----------------------------------------------------------------+-----+\n",
      "|/pub/winvn/readme.txt                                            |667  |\n",
      "|/pub/winvn/release.txt                                           |547  |\n",
      "|/history/apollo/apollo-13.html                                   |286  |\n",
      "|/history/apollo/a-001/a-001-patch-small.gif                      |230  |\n",
      "|/shuttle/resources/orbiters/atlantis.gif                         |230  |\n",
      "|/://spacelink.msfc.nasa.gov                                      |215  |\n",
      "|/history/apollo/pad-abort-test-1/pad-abort-test-1-patch-small.gif|215  |\n",
      "|/images/crawlerway-logo.gif                                      |214  |\n",
      "|/history/apollo/sa-1/sa-1-patch-small.gif                        |183  |\n",
      "|/shuttle/resources/orbiters/discovery.gif                        |180  |\n",
      "|/shuttle/missions/sts-68/ksc-upclose.gif                         |175  |\n",
      "|/shuttle/missions/sts-71/images/KSC-95EC-0916.txt                |168  |\n",
      "|/elv/DELTA/uncons.htm                                            |163  |\n",
      "|/history/apollo/publications/sp-350/sp-350.txt~                  |140  |\n",
      "|                                                                 |134  |\n",
      "|/shuttle/missions/technology/sts-newsref/stsref-toc.html         |107  |\n",
      "|/shuttle/resources/orbiters/challenger.gif                       |92   |\n",
      "|/procurement/procurement.htm                                     |86   |\n",
      "|/history/apollo-13/apollo-13.html                                |73   |\n",
      "|/history/apollo/pad-abort-test-2/pad-abort-test-2-patch-small.gif|71   |\n",
      "+-----------------------------------------------------------------+-----+\n",
      "only showing top 20 rows\n",
      "\n"
     ]
    }
   ],
   "source": [
    "top_20_not_found_df = (not_found_paths_df\n",
    "                       .groupBy('path')\n",
    "                       .count()\n",
    "                       .orderBy(col('count').desc()))\n",
    "print('Top 20 404 URLs:')\n",
    "top_20_not_found_df.show(n=20, truncate=False)"
   ]
  },
  {
   "cell_type": "code",
   "execution_count": 32,
   "metadata": {},
   "outputs": [
    {
     "name": "stdout",
     "output_type": "stream",
     "text": [
      "Top 25 hosts that generated errors\n",
      "+----------------------------+-----+\n",
      "|host                        |count|\n",
      "+----------------------------+-----+\n",
      "|hoohoo.ncsa.uiuc.edu        |251  |\n",
      "|jbiagioni.npt.nuwc.navy.mil |131  |\n",
      "|piweba3y.prodigy.com        |110  |\n",
      "|piweba1y.prodigy.com        |92   |\n",
      "|phaelon.ksc.nasa.gov        |64   |\n",
      "|www-d4.proxy.aol.com        |61   |\n",
      "|monarch.eng.buffalo.edu     |56   |\n",
      "|piweba4y.prodigy.com        |56   |\n",
      "|alyssa.prodigy.com          |54   |\n",
      "|titan02f                    |53   |\n",
      "|www-a2.proxy.aol.com        |52   |\n",
      "|www-b4.proxy.aol.com        |48   |\n",
      "|www-b6.proxy.aol.com        |44   |\n",
      "|www-b3.proxy.aol.com        |43   |\n",
      "|tearnest2.stpaul.ncr.com    |42   |\n",
      "|www-d1.proxy.aol.com        |41   |\n",
      "|www-b2.proxy.aol.com        |41   |\n",
      "|piweba2y.prodigy.com        |38   |\n",
      "|www-d3.proxy.aol.com        |38   |\n",
      "|www-a1.proxy.aol.com        |38   |\n",
      "|scooter.pa-x.dec.com        |34   |\n",
      "|proxy.austin.ibm.com        |34   |\n",
      "|www-d2.proxy.aol.com        |33   |\n",
      "|www-b5.proxy.aol.com        |32   |\n",
      "|monolith.uunet.ca           |31   |\n",
      "+----------------------------+-----+\n",
      "only showing top 25 rows\n",
      "\n"
     ]
    }
   ],
   "source": [
    "hosts_404_count_df = (not_found_df\n",
    "                      .groupBy('host')\n",
    "                      .count()\n",
    "                      .orderBy(col('count').desc()))\n",
    "print('Top 25 hosts that generated errors')\n",
    "hosts_404_count_df.show(n=25, truncate=False)"
   ]
  },
  {
   "cell_type": "code",
   "execution_count": 36,
   "metadata": {},
   "outputs": [
    {
     "name": "stdout",
     "output_type": "stream",
     "text": [
      "404 errors by day:\n",
      "+---+-----+\n",
      "|day|count|\n",
      "+---+-----+\n",
      "|  1|  316|\n",
      "|  2|  291|\n",
      "|  3|  474|\n",
      "|  4|  359|\n",
      "|  5|  497|\n",
      "|  6|  640|\n",
      "|  7|  570|\n",
      "|  8|  302|\n",
      "|  9|  348|\n",
      "| 10|  398|\n",
      "| 11|  471|\n",
      "| 12|  471|\n",
      "| 13|  532|\n",
      "| 14|  413|\n",
      "| 15|  254|\n",
      "| 16|  257|\n",
      "| 17|  406|\n",
      "| 18|  465|\n",
      "| 19|  639|\n",
      "| 20|  428|\n",
      "| 21|  334|\n",
      "| 22|  192|\n",
      "| 23|  233|\n",
      "| 24|  328|\n",
      "| 25|  461|\n",
      "| 26|  336|\n",
      "| 27|  336|\n",
      "| 28|   94|\n",
      "+---+-----+\n",
      "\n",
      "[1, 2, 3, 4, 5, 6, 7, 8, 9, 10, 11, 12, 13, 14, 15, 16, 17, 18, 19, 20, 21, 22, 23, 24, 25, 26, 27, 28]\n",
      "[316, 291, 474, 359, 497, 640, 570, 302, 348, 398, 471, 471, 532, 413, 254, 257, 406, 465, 639, 428, 334, 192, 233, 328, 461, 336, 336, 94]\n"
     ]
    }
   ],
   "source": [
    "errors_by_date_sorted_df = (not_found_df\n",
    "                            .groupBy(dayofmonth('time').alias('day'))\n",
    "                            .count()\n",
    "                            .orderBy('day'))\n",
    "print('404 errors by day:')\n",
    "errors_by_date_sorted_df.show(n=30)\n",
    "days_with_errors_404 = errors_by_date_sorted_df.rdd.map(lambda r:r[0]).collect()\n",
    "errors_404_by_day = errors_by_date_sorted_df.rdd.map(lambda r:r[1]).collect()\n",
    "print(days_with_errors_404)\n",
    "print(errors_404_by_day)"
   ]
  },
  {
   "cell_type": "code",
   "execution_count": 37,
   "metadata": {},
   "outputs": [
    {
     "name": "stdout",
     "output_type": "stream",
     "text": [
      "Top five dates for 404 requests\n",
      "+---+-----+\n",
      "|day|count|\n",
      "+---+-----+\n",
      "|  6|  640|\n",
      "| 19|  639|\n",
      "|  7|  570|\n",
      "| 13|  532|\n",
      "|  5|  497|\n",
      "+---+-----+\n",
      "only showing top 5 rows\n",
      "\n"
     ]
    }
   ],
   "source": [
    "top_err_date_df = errors_by_date_sorted_df.orderBy(col('count').desc())\n",
    "print('Top five dates for 404 requests')\n",
    "top_err_date_df.show(5)"
   ]
  },
  {
   "cell_type": "code",
   "execution_count": 46,
   "metadata": {},
   "outputs": [
    {
     "name": "stdout",
     "output_type": "stream",
     "text": [
      "Top hours for 404 requests\n",
      "+----+-----+\n",
      "|hour|count|\n",
      "+----+-----+\n",
      "|   0|  430|\n",
      "|   1|  321|\n",
      "|   2|  268|\n",
      "|   3|  240|\n",
      "|   4|  168|\n",
      "|   5|  147|\n",
      "|   6|  134|\n",
      "|   7|  240|\n",
      "|   8|  365|\n",
      "|   9|  481|\n",
      "|  10|  595|\n",
      "|  11|  732|\n",
      "|  12|  657|\n",
      "|  13|  537|\n",
      "|  14|  752|\n",
      "|  15|  833|\n",
      "|  16|  631|\n",
      "|  17|  617|\n",
      "|  18|  505|\n",
      "|  19|  412|\n",
      "|  20|  383|\n",
      "|  21|  445|\n",
      "|  22|  485|\n",
      "|  23|  467|\n",
      "+----+-----+\n",
      "\n",
      "[0, 1, 2, 3, 4, 5, 6, 7, 8, 9, 10, 11, 12, 13, 14, 15, 16, 17, 18, 19, 20, 21, 22, 23]\n",
      "[430, 321, 268, 240, 168, 147, 134, 240, 365, 481, 595, 732, 657, 537, 752, 833, 631, 617, 505, 412, 383, 445, 485, 467]\n"
     ]
    }
   ],
   "source": [
    "from pyspark.sql.functions import hour\n",
    "hour_records_sorted_df = (not_found_df\n",
    "                          .groupBy(hour(col('time')).alias('hour'))\n",
    "                          .count()\n",
    "                          .orderBy('hour'))\n",
    "print('Top hours for 404 requests')\n",
    "hour_records_sorted_df.show(24)\n",
    "hours_with_not_found = hour_records_sorted_df.rdd.map(lambda r:r[0]).collect()\n",
    "not_found_counts_per_hour = hour_records_sorted_df.rdd.map(lambda r:r[1]).collect()\n",
    "print(hours_with_not_found)\n",
    "print(not_found_counts_per_hour)"
   ]
  },
  {
   "cell_type": "code",
   "execution_count": null,
   "metadata": {
    "collapsed": true
   },
   "outputs": [],
   "source": []
  }
 ],
 "metadata": {
  "kernelspec": {
   "display_name": "Python 2",
   "language": "python",
   "name": "python2"
  },
  "language_info": {
   "codemirror_mode": {
    "name": "ipython",
    "version": 2
   },
   "file_extension": ".py",
   "mimetype": "text/x-python",
   "name": "python",
   "nbconvert_exporter": "python",
   "pygments_lexer": "ipython2",
   "version": "2.7.6"
  }
 },
 "nbformat": 4,
 "nbformat_minor": 2
}
