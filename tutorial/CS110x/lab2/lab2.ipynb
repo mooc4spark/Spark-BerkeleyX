{
 "cells": [
  {
   "cell_type": "markdown",
   "metadata": {
    "collapsed": true
   },
   "source": [
    "# Predicting Movie Ratings "
   ]
  },
  {
   "cell_type": "markdown",
   "metadata": {},
   "source": [
    "Define locations of files"
   ]
  },
  {
   "cell_type": "code",
   "execution_count": 1,
   "metadata": {
    "collapsed": true
   },
   "outputs": [],
   "source": [
    "import os\n",
    "dbfs_dir = '/user/root/ml-20m'\n",
    "ratings_filename = dbfs_dir + '/ratings.csv'\n",
    "movies_filename = dbfs_dir + '/movies.csv'\n",
    "\n",
    "# for windows\n",
    "if os.path.sep != '/':\n",
    "    ratings_filename = ratings_filename.replace('/', os.path.sep)\n",
    "    movies_filename = movies_filename.replace('/', os.path.sep)"
   ]
  },
  {
   "cell_type": "markdown",
   "metadata": {},
   "source": [
    "## Part 0: Preliminaries "
   ]
  },
  {
   "cell_type": "markdown",
   "metadata": {},
   "source": [
    "### CPU vs I/O tradeoff"
   ]
  },
  {
   "cell_type": "code",
   "execution_count": 2,
   "metadata": {
    "collapsed": true
   },
   "outputs": [],
   "source": [
    "from pyspark.sql.types import *\n",
    "\n",
    "ratings_df_schema = StructType(\n",
    "    [StructField('userId', IntegerType()),\n",
    "     StructField('movieId', IntegerType()),\n",
    "     StructField('rating', DoubleType())]\n",
    ")\n",
    "\n",
    "movies_df_schema = StructType(\n",
    "    [StructField('ID', IntegerType()),\n",
    "     StructField('title', StringType())]\n",
    ")"
   ]
  },
  {
   "cell_type": "markdown",
   "metadata": {},
   "source": [
    "### Load and Cache"
   ]
  },
  {
   "cell_type": "code",
   "execution_count": 3,
   "metadata": {},
   "outputs": [
    {
     "name": "stdout",
     "output_type": "stream",
     "text": [
      "There are 20000263 ratings and 27278 movies in the datasets\n",
      "Ratings: \n",
      "+------+-------+------+\n",
      "|userId|movieId|rating|\n",
      "+------+-------+------+\n",
      "|     1|      2|   3.5|\n",
      "|     1|     29|   3.5|\n",
      "|     1|     32|   3.5|\n",
      "+------+-------+------+\n",
      "only showing top 3 rows\n",
      "\n",
      "Movies: \n",
      "+---+-----------------------+\n",
      "|ID |title                  |\n",
      "+---+-----------------------+\n",
      "|1  |Toy Story (1995)       |\n",
      "|2  |Jumanji (1995)         |\n",
      "|3  |Grumpier Old Men (1995)|\n",
      "+---+-----------------------+\n",
      "only showing top 3 rows\n",
      "\n"
     ]
    }
   ],
   "source": [
    "from pyspark.sql.functions import regexp_extract\n",
    "from pyspark.sql.types import *\n",
    "\n",
    "raw_ratings_df = (sqlContext\n",
    "                  .read.format('com.databricks.spark.csv')\n",
    "                  .options(header=True, inferSchema=False)\n",
    "                  .schema(ratings_df_schema)\n",
    "                  .load(ratings_filename))\n",
    "ratings_df = raw_ratings_df.drop('Timestamp')\n",
    "\n",
    "raw_movies_df = (sqlContext\n",
    "                 .read.format('com.databricks.spark.csv')\n",
    "                 .options(header=True, inferSchema=False)\n",
    "                 .schema(movies_df_schema)\n",
    "                 .load(movies_filename))\n",
    "movies_df = raw_movies_df.drop('Genres').withColumnRenamed('movieID', 'ID')\n",
    "\n",
    "ratings_df.cache()\n",
    "movies_df.cache()\n",
    "assert ratings_df.is_cached\n",
    "assert movies_df.is_cached\n",
    "raw_ratings_count = raw_ratings_df.count()\n",
    "ratings_count = ratings_df.count()\n",
    "raw_movies_count = raw_movies_df.count()\n",
    "movies_count = movies_df.count()\n",
    "\n",
    "print('There are {0} ratings and {1} movies in the datasets'.format(ratings_count, movies_count))\n",
    "print('Ratings: ')\n",
    "ratings_df.show(3)\n",
    "print('Movies: ')\n",
    "movies_df.show(n=3, truncate=False)\n",
    "\n",
    "assert raw_ratings_count == ratings_count\n",
    "assert raw_movies_count == movies_count"
   ]
  },
  {
   "cell_type": "markdown",
   "metadata": {},
   "source": [
    "A quick verification of data."
   ]
  },
  {
   "cell_type": "code",
   "execution_count": 4,
   "metadata": {
    "collapsed": true
   },
   "outputs": [],
   "source": [
    "assert ratings_count == 20000263\n",
    "assert movies_count == 27278\n",
    "assert movies_df.filter(movies_df['title'] == 'Toy Story (1995)').count() == 1\n",
    "assert ratings_df.filter((ratings_df['userId'] == 6) & (ratings_df['movieId'] == 1) & (ratings_df['rating'] == 5.0)).count() == 1"
   ]
  },
  {
   "cell_type": "markdown",
   "metadata": {},
   "source": [
    "## Part 1: Basic Recommendations\n",
    "### (1a) Movies with Highest Average Ratings"
   ]
  },
  {
   "cell_type": "code",
   "execution_count": 5,
   "metadata": {},
   "outputs": [
    {
     "name": "stdout",
     "output_type": "stream",
     "text": [
      "movie_ids_with_avg_ratings_df:\n",
      "+-------+-----+------------------+\n",
      "|movieId|count|average           |\n",
      "+-------+-----+------------------+\n",
      "|3997   |2047 |2.0703468490473864|\n",
      "|1580   |35580|3.55831928049466  |\n",
      "|3918   |1246 |2.918940609951846 |\n",
      "+-------+-----+------------------+\n",
      "only showing top 3 rows\n",
      "\n",
      "movie_names_with_avg_ratings_df:\n",
      "+------------------+--------------------------------+-----+-------+\n",
      "|average           |title                           |count|movieId|\n",
      "+------------------+--------------------------------+-----+-------+\n",
      "|2.0703468490473864|Dungeons & Dragons (2000)       |2047 |3997   |\n",
      "|3.55831928049466  |Men in Black (a.k.a. MIB) (1997)|35580|1580   |\n",
      "|2.918940609951846 |Hellbound: Hellraiser II (1988) |1246 |3918   |\n",
      "+------------------+--------------------------------+-----+-------+\n",
      "only showing top 3 rows\n",
      "\n"
     ]
    }
   ],
   "source": [
    "from pyspark.sql import functions as F\n",
    "\n",
    "movie_ids_with_avg_ratings_df = (ratings_df\n",
    "                                 .groupBy('movieId')\n",
    "                                 .agg(F.count(ratings_df['rating']).alias('count'), F.avg(ratings_df['rating']).alias('average')))\n",
    "#movie_ids_with_avg_ratings_df = ratings_df.groupBy('movieId').agg(F.count(ratings_df.rating).alias(\"count\"), F.avg(ratings_df.rating).alias(\"average\"))\n",
    "print('movie_ids_with_avg_ratings_df:')\n",
    "movie_ids_with_avg_ratings_df.show(n=3, truncate=False)\n",
    "\n",
    "movie_names_df = movie_ids_with_avg_ratings_df.join(movies_df, F.col('movieId') == F.col('ID'))\n",
    "movie_ids_with_avg_ratings_df = movie_names_df.select(F.col('average'), F.col('title'), F.col('count'), F.col('movieId'))\n",
    "\n",
    "print('movie_names_with_avg_ratings_df:')\n",
    "movie_ids_with_avg_ratings_df.show(n=3, truncate=False)"
   ]
  },
  {
   "cell_type": "code",
   "execution_count": 6,
   "metadata": {},
   "outputs": [
    {
     "name": "stdout",
     "output_type": "stream",
     "text": [
      "[(3.921239561324077, u'Toy Story (1995)', 49695, 1), (3.2119768016904193, u'Jumanji (1995)', 22243, 2), (3.1510404397330194, u'Grumpier Old Men (1995)', 12735, 3)]\n",
      "[(0.5, u'13 Fighting Men (1960)', 1, 109355), (0.5, u'20 Years After (2008)', 1, 131062), (0.5, u'3 Holiday Tails (Golden Christmas 2: The Second Tail, A) (2011)', 1, 111040)]\n"
     ]
    }
   ],
   "source": [
    "assert movie_ids_with_avg_ratings_df.count() == 26744\n",
    "movie_ids_with_ratings_take_ordered = movie_ids_with_avg_ratings_df.orderBy('MovieId').take(3)\n",
    "result = [(r['average'], r['title'], r['count'], r['movieId']) for r in movie_ids_with_ratings_take_ordered]\n",
    "print(result)\n",
    "movie_ids_with_ratings_take_ordered = movie_ids_with_avg_ratings_df.orderBy('average', 'title').take(3)\n",
    "result = [(r['average'], r['title'], r['count'], r['movieId']) for r in movie_ids_with_ratings_take_ordered]\n",
    "print(result)"
   ]
  },
  {
   "cell_type": "markdown",
   "metadata": {},
   "source": [
    "### (1b) Movies with Highest Average Ratings and at least 500 Reviews"
   ]
  },
  {
   "cell_type": "code",
   "execution_count": 7,
   "metadata": {},
   "outputs": [
    {
     "name": "stdout",
     "output_type": "stream",
     "text": [
      "Movies with 500 ratings or more:\n",
      "+------------------+---------------------------------------------------------------------------+-----+-------+\n",
      "|average           |title                                                                      |count|movieId|\n",
      "+------------------+---------------------------------------------------------------------------+-----+-------+\n",
      "|4.446990499637029 |Shawshank Redemption, The (1994)                                           |63366|318    |\n",
      "|4.364732196832306 |Godfather, The (1972)                                                      |41355|858    |\n",
      "|4.334372207803259 |Usual Suspects, The (1995)                                                 |47006|50     |\n",
      "|4.310175010988133 |Schindler's List (1993)                                                    |50054|527    |\n",
      "|4.275640557704942 |Godfather: Part II, The (1974)                                             |27398|1221   |\n",
      "|4.2741796572216   |Seven Samurai (Shichinin no samurai) (1954)                                |11611|2019   |\n",
      "|4.271333600779414 |Rear Window (1954)                                                         |17449|904    |\n",
      "|4.263182346109176 |Band of Brothers (2001)                                                    |4305 |7502   |\n",
      "|4.258326830670664 |Casablanca (1942)                                                          |24349|912    |\n",
      "|4.256934865900383 |Sunset Blvd. (a.k.a. Sunset Boulevard) (1950)                              |6525 |922    |\n",
      "|4.24807897901911  |One Flew Over the Cuckoo's Nest (1975)                                     |29932|1193   |\n",
      "|4.247286821705426 |Dr. Strangelove or: How I Learned to Stop Worrying and Love the Bomb (1964)|23220|750    |\n",
      "|4.246001523229246 |Third Man, The (1949)                                                      |6565 |1212   |\n",
      "|4.235410064157069 |City of God (Cidade de Deus) (2002)                                        |12937|6016   |\n",
      "|4.2347902097902095|Lives of Others, The (Das leben der Anderen) (2006)                        |5720 |44555  |\n",
      "|4.233538107122288 |North by Northwest (1959)                                                  |15627|908    |\n",
      "|4.2326233183856505|Paths of Glory (1957)                                                      |3568 |1178   |\n",
      "|4.227123123722136 |Fight Club (1999)                                                          |40106|2959   |\n",
      "|4.224281931146873 |Double Indemnity (1944)                                                    |4909 |3435   |\n",
      "|4.224137931034483 |12 Angry Men (1957)                                                        |12934|1203   |\n",
      "+------------------+---------------------------------------------------------------------------+-----+-------+\n",
      "only showing top 20 rows\n",
      "\n"
     ]
    }
   ],
   "source": [
    "movies_with_500_ratings_or_more = movie_ids_with_avg_ratings_df.where('count >= 500').orderBy('average',ascending=False)\n",
    "print('Movies with 500 ratings or more:')\n",
    "movies_with_500_ratings_or_more.show(truncate=False)"
   ]
  },
  {
   "cell_type": "markdown",
   "metadata": {},
   "source": [
    "## Part 2: Collaborative Filtering"
   ]
  },
  {
   "cell_type": "markdown",
   "metadata": {},
   "source": [
    "### (2a) Creating a Training Set"
   ]
  },
  {
   "cell_type": "code",
   "execution_count": 8,
   "metadata": {
    "collapsed": true
   },
   "outputs": [],
   "source": [
    "seed = 1800009193L\n",
    "(split_60_df, split_a_20_df, split_b_20_df) = ratings_df.randomSplit([0.6, 0.2, 0.2], seed)\n",
    "training_df = split_60_df.cache()\n",
    "validation_df = split_a_20_df.cache()\n",
    "test_df = split_b_20_df.cache()"
   ]
  },
  {
   "cell_type": "code",
   "execution_count": 9,
   "metadata": {},
   "outputs": [
    {
     "name": "stdout",
     "output_type": "stream",
     "text": [
      "Training: 11998949, validation: 4003888, test: 3997426\n"
     ]
    }
   ],
   "source": [
    "print('Training: {0}, validation: {1}, test: {2}'.format(training_df.count(), validation_df.count(), test_df.count()))"
   ]
  },
  {
   "cell_type": "code",
   "execution_count": 10,
   "metadata": {},
   "outputs": [
    {
     "name": "stdout",
     "output_type": "stream",
     "text": [
      "+------+-------+------+\n",
      "|userId|movieId|rating|\n",
      "+------+-------+------+\n",
      "|     1|      2|   3.5|\n",
      "|     1|     29|   3.5|\n",
      "|     1|     47|   3.5|\n",
      "+------+-------+------+\n",
      "only showing top 3 rows\n",
      "\n",
      "+------+-------+------+\n",
      "|userId|movieId|rating|\n",
      "+------+-------+------+\n",
      "|     1|     32|   3.5|\n",
      "|     1|    253|   4.0|\n",
      "|     1|    293|   4.0|\n",
      "+------+-------+------+\n",
      "only showing top 3 rows\n",
      "\n",
      "+------+-------+------+\n",
      "|userId|movieId|rating|\n",
      "+------+-------+------+\n",
      "|     1|    112|   3.5|\n",
      "|     1|    151|   4.0|\n",
      "|     1|    318|   4.0|\n",
      "+------+-------+------+\n",
      "only showing top 3 rows\n",
      "\n"
     ]
    }
   ],
   "source": [
    "training_df.show(3)\n",
    "validation_df.show(3)\n",
    "test_df.show(3)"
   ]
  },
  {
   "cell_type": "markdown",
   "metadata": {},
   "source": [
    "### (2b) Alternating Least Squares"
   ]
  },
  {
   "cell_type": "code",
   "execution_count": 11,
   "metadata": {},
   "outputs": [
    {
     "name": "stdout",
     "output_type": "stream",
     "text": [
      "For rank 4 the RMSE is 0.828345386773\n",
      "For rank 8 the RMSE is 0.816184007672\n",
      "For rank 12 the RMSE is 0.809510159004\n",
      "The best model was trained with rank 12\n"
     ]
    }
   ],
   "source": [
    "from pyspark.ml.recommendation import ALS\n",
    "als = ALS()\n",
    "als.setMaxIter(5) \\\n",
    "   .setSeed(seed) \\\n",
    "   .setRegParam(0.1) \\\n",
    "   .setUserCol('userId') \\\n",
    "   .setItemCol('movieId') \\\n",
    "   .setRatingCol('rating')\n",
    "    \n",
    "from pyspark.ml.evaluation import RegressionEvaluator\n",
    "\n",
    "reg_eval = RegressionEvaluator(predictionCol='prediction', labelCol='rating', metricName='rmse')\n",
    "ranks = [4, 8, 12]\n",
    "errors = [0, 0, 0]\n",
    "models = [0, 0, 0]\n",
    "err = 0\n",
    "min_error = float('inf')\n",
    "best_rank = -1\n",
    "for rank in ranks:\n",
    "    als.setRank(rank)\n",
    "    model = als.fit(training_df)\n",
    "    predict_df = model.transform(validation_df)\n",
    "    predicted_ratings_df = predict_df.filter(predict_df['prediction'] != float('nan'))\n",
    "    error = reg_eval.evaluate(predicted_ratings_df)\n",
    "    errors[err] = error\n",
    "    models[err] = model\n",
    "    print('For rank {0} the RMSE is {1}'.format(rank, error))\n",
    "    if error < min_error:\n",
    "        min_error = error\n",
    "        best_rank = err\n",
    "    err += 1\n",
    "als.setRank(ranks[best_rank])\n",
    "print('The best model was trained with rank {0}'.format(ranks[best_rank]))\n",
    "my_model = models[best_rank]"
   ]
  },
  {
   "cell_type": "markdown",
   "metadata": {
    "collapsed": true
   },
   "source": [
    "### (2c) Testing Your Model"
   ]
  },
  {
   "cell_type": "code",
   "execution_count": 12,
   "metadata": {},
   "outputs": [
    {
     "name": "stdout",
     "output_type": "stream",
     "text": [
      "The model had a RMSE on the test set of 0.809435932161\n"
     ]
    }
   ],
   "source": [
    "predict_df = my_model.transform(test_df)\n",
    "predicted_test_df = predict_df.filter(predict_df['prediction'] != float('nan'))\n",
    "test_RMSE = reg_eval.evaluate(predicted_test_df)\n",
    "print('The model had a RMSE on the test set of {0}'.format(test_RMSE))"
   ]
  },
  {
   "cell_type": "markdown",
   "metadata": {},
   "source": [
    "### (2d) Comparing Your Model"
   ]
  },
  {
   "cell_type": "code",
   "execution_count": 13,
   "metadata": {},
   "outputs": [
    {
     "name": "stdout",
     "output_type": "stream",
     "text": [
      "The average rating for movies in the training set is 3.52569066674\n",
      "The RMSE on the average set is 1.05264453981\n"
     ]
    }
   ],
   "source": [
    "avg_rating_df = training_df.groupBy().avg('rating')\n",
    "training_avg_rating = avg_rating_df.collect()[0][0]\n",
    "print('The average rating for movies in the training set is {0}'.format(training_avg_rating))\n",
    "test_for_avg_df = test_df.withColumn('prediction', F.lit(training_avg_rating))\n",
    "test_avg_RMSE = reg_eval.evaluate(test_for_avg_df)\n",
    "print('The RMSE on the average set is {0}'.format(test_avg_RMSE))"
   ]
  },
  {
   "cell_type": "markdown",
   "metadata": {},
   "source": [
    "## Part 3: Predictions for Yourself"
   ]
  },
  {
   "cell_type": "markdown",
   "metadata": {},
   "source": [
    "### (3a) Your Movie Ratings"
   ]
  },
  {
   "cell_type": "code",
   "execution_count": 14,
   "metadata": {},
   "outputs": [
    {
     "name": "stdout",
     "output_type": "stream",
     "text": [
      "Most rated movies\n",
      "average rating, movie name, number of reviews, movie ID\n",
      "+------------------+----------------------------------------------------------------------------------------------------+-----+-------+\n",
      "|average           |title                                                                                               |count|movieId|\n",
      "+------------------+----------------------------------------------------------------------------------------------------+-----+-------+\n",
      "|4.446990499637029 |Shawshank Redemption, The (1994)                                                                    |63366|318    |\n",
      "|4.364732196832306 |Godfather, The (1972)                                                                               |41355|858    |\n",
      "|4.334372207803259 |Usual Suspects, The (1995)                                                                          |47006|50     |\n",
      "|4.310175010988133 |Schindler's List (1993)                                                                             |50054|527    |\n",
      "|4.275640557704942 |Godfather: Part II, The (1974)                                                                      |27398|1221   |\n",
      "|4.2741796572216   |Seven Samurai (Shichinin no samurai) (1954)                                                         |11611|2019   |\n",
      "|4.271333600779414 |Rear Window (1954)                                                                                  |17449|904    |\n",
      "|4.263182346109176 |Band of Brothers (2001)                                                                             |4305 |7502   |\n",
      "|4.258326830670664 |Casablanca (1942)                                                                                   |24349|912    |\n",
      "|4.256934865900383 |Sunset Blvd. (a.k.a. Sunset Boulevard) (1950)                                                       |6525 |922    |\n",
      "|4.24807897901911  |One Flew Over the Cuckoo's Nest (1975)                                                              |29932|1193   |\n",
      "|4.247286821705426 |Dr. Strangelove or: How I Learned to Stop Worrying and Love the Bomb (1964)                         |23220|750    |\n",
      "|4.246001523229246 |Third Man, The (1949)                                                                               |6565 |1212   |\n",
      "|4.235410064157069 |City of God (Cidade de Deus) (2002)                                                                 |12937|6016   |\n",
      "|4.2347902097902095|Lives of Others, The (Das leben der Anderen) (2006)                                                 |5720 |44555  |\n",
      "|4.233538107122288 |North by Northwest (1959)                                                                           |15627|908    |\n",
      "|4.2326233183856505|Paths of Glory (1957)                                                                               |3568 |1178   |\n",
      "|4.227123123722136 |Fight Club (1999)                                                                                   |40106|2959   |\n",
      "|4.224281931146873 |Double Indemnity (1944)                                                                             |4909 |3435   |\n",
      "|4.224137931034483 |12 Angry Men (1957)                                                                                 |12934|1203   |\n",
      "|4.2206196581196584|Cosmos (1980)                                                                                       |936  |77658  |\n",
      "|4.220129171151776 |Dark Knight, The (2008)                                                                             |20438|58559  |\n",
      "|4.219009123455364 |Raiders of the Lost Ark (Indiana Jones and the Raiders of the Lost Ark) (1981)                      |43295|1198   |\n",
      "|4.211716774374825 |Yojimbo (1961)                                                                                      |3559 |3030   |\n",
      "|4.207361186471333 |Big Sleep, The (1946)                                                                               |5529 |1284   |\n",
      "|4.2041027766266055|All About Eve (1950)                                                                                |4826 |926    |\n",
      "|4.203809594534383 |Spirited Away (Sen to Chihiro no kamikakushi) (2001)                                                |13466|5618   |\n",
      "|4.199673416067929 |Chinatown (1974)                                                                                    |15310|1252   |\n",
      "|4.1977899432279   |Notorious (1946)                                                                                    |4932 |930    |\n",
      "|4.19707174832642  |Amelie (Fabuleux destin d'Amélie Poulain, Le) (2001)                                                |24349|4973   |\n",
      "|4.193171077504726 |M (1931)                                                                                            |4232 |1260   |\n",
      "|4.190671901948552 |Star Wars: Episode IV - A New Hope (1977)                                                           |54502|260    |\n",
      "|4.188943056401923 |To Kill a Mockingbird (1962)                                                                        |14769|1207   |\n",
      "|4.188202061218635 |Star Wars: Episode V - The Empire Strikes Back (1980)                                               |45313|1196   |\n",
      "|4.187211791831357 |Maltese Falcon, The (1941)                                                                          |12144|913    |\n",
      "|4.187185880702848 |Matrix, The (1999)                                                                                  |51334|2571   |\n",
      "|4.184187016081    |Thin Man, The (1934)                                                                                |3358 |950    |\n",
      "|4.183632507763387 |Goodfellas (1990)                                                                                   |26406|1213   |\n",
      "|4.183022467147096 |Touch of Evil (1958)                                                                                |4718 |1248   |\n",
      "|4.18298969072165  |Black Mirror (2011)                                                                                 |582  |94466  |\n",
      "|4.181067767274664 |Wallace & Gromit: The Wrong Trousers (1993)                                                         |15022|1148   |\n",
      "|4.1785467923660615|Memento (2000)                                                                                      |30443|4226   |\n",
      "|4.17705650958151  |Silence of the Lambs, The (1991)                                                                    |63299|593    |\n",
      "|4.1767323390413065|Princess Bride, The (1987)                                                                          |32586|1197   |\n",
      "|4.176724137931035 |Rashomon (Rashômon) (1950)                                                                          |3712 |5291   |\n",
      "|4.175837188808107 |Life Is Beautiful (La Vita è bella) (1997)                                                          |18156|2324   |\n",
      "|4.174231169217055 |Pulp Fiction (1994)                                                                                 |67310|296    |\n",
      "|4.174146075581396 |Monty Python and the Holy Grail (1975)                                                              |33024|1136   |\n",
      "|4.174122637871192 |City Lights (1931)                                                                                  |2593 |3307   |\n",
      "|4.173611111111111 |Ran (1985)                                                                                          |4824 |1217   |\n",
      "|4.173556210639153 |Sting, The (1973)                                                                                   |14926|1234   |\n",
      "|4.171426401336777 |Philadelphia Story, The (1940)                                                                      |6583 |898    |\n",
      "|4.170052581261951 |It Happened One Night (1934)                                                                        |4184 |905    |\n",
      "|4.167315497390872 |Wallace & Gromit: A Close Shave (1995)                                                              |12073|745    |\n",
      "|4.163536498936924 |On the Waterfront (1954)                                                                            |5644 |1945   |\n",
      "|4.162769784172662 |General, The (1926)                                                                                 |2224 |3022   |\n",
      "|4.162102116658588 |Lawrence of Arabia (1962)                                                                           |12378|1204   |\n",
      "|4.161396702230844 |Treasure of the Sierra Madre, The (1948)                                                            |5155 |1254   |\n",
      "|4.1596180081855385|Shadow of a Doubt (1943)                                                                            |2199 |2203   |\n",
      "|4.158614668218859 |Strangers on a Train (1951)                                                                         |5154 |2186   |\n",
      "|4.158415841584159 |When We Were Kings (1996)                                                                           |3737 |1147   |\n",
      "|4.156172003137702 |Inception (2010)                                                                                    |14023|79132  |\n",
      "|4.155933936470536 |American Beauty (1999)                                                                              |44987|2858   |\n",
      "|4.154010989010989 |Cinema Paradiso (Nuovo cinema Paradiso) (1989)                                                      |9100 |1172   |\n",
      "|4.1529984623270115|His Girl Friday (1940)                                                                              |3902 |951    |\n",
      "|4.151207688017504 |American History X (1998)                                                                           |23309|2329   |\n",
      "|4.150878293601004 |Grand Illusion (La grande illusion) (1937)                                                          |1594 |3134   |\n",
      "|4.1494807797413005|My Neighbor Totoro (Tonari no Totoro) (1988)                                                        |5489 |5971   |\n",
      "|4.148006243791684 |Vertigo (1958)                                                                                      |14094|903    |\n",
      "|4.146604938271605 |Witness for the Prosecution (1957)                                                                  |1620 |5008   |\n",
      "|4.144328312327083 |Raise the Red Lantern (Da hong deng long gao gao gua) (1991)                                        |3253 |1280   |\n",
      "|4.143596986817326 |Bicycle Thieves (a.k.a. The Bicycle Thief) (a.k.a. The Bicycle Thieves) (Ladri di biciclette) (1948)|3186 |3089   |\n",
      "|4.143086816720257 |Modern Times (1936)                                                                                 |3732 |3462   |\n",
      "|4.14238211356367  |Lord of the Rings: The Return of the King, The (2003)                                               |31577|7153   |\n",
      "|4.139947437582129 |Song of the Little Road (Pather Panchali) (1955)                                                    |761  |668    |\n",
      "|4.139729650308551 |Boot, Das (Boat, The) (1981)                                                                        |13612|1233   |\n",
      "|4.139051432091161 |Jean de Florette (1986)                                                                             |3247 |1131   |\n",
      "|4.138888888888889 |Nights of Cabiria (Notti di Cabiria, Le) (1957)                                                     |1152 |2351   |\n",
      "|4.137925065906852 |Lord of the Rings: The Fellowship of the Ring, The (2001)                                           |37553|4993   |\n",
      "|4.137655906089509 |Great Escape, The (1963)                                                                            |10904|1262   |\n",
      "|4.136267976148719 |400 Blows, The (Les quatre cents coups) (1959)                                                      |2851 |2731   |\n",
      "|4.133705693507174 |Blade Runner (1982)                                                                                 |30526|541    |\n",
      "|4.13259538389072  |Man for All Seasons, A (1966)                                                                       |2123 |1949   |\n",
      "|4.132395909422937 |Intouchables (2011)                                                                                 |2738 |92259  |\n",
      "|4.1304433442106445|Citizen Kane (1941)                                                                                 |17774|923    |\n",
      "|4.130185979971388 |Lady Eve, The (1941)                                                                                |1398 |2935   |\n",
      "|4.129646256060334 |Duck Soup (1933)                                                                                    |5569 |1256   |\n",
      "|4.128888888888889 |Thin Blue Line, The (1988)                                                                          |2700 |1189   |\n",
      "|4.1288777372262775|Stop Making Sense (1984)                                                                            |2192 |2859   |\n",
      "|4.128545495802133 |Once Upon a Time in the West (C'era una volta il West) (1968)                                       |4407 |1209   |\n",
      "|4.128504672897196 |Manchurian Candidate, The (1962)                                                                    |8988 |1267   |\n",
      "|4.124836601307189 |World of Apu, The (Apur Sansar) (1959)                                                              |765  |670    |\n",
      "|4.1246523388116305|Hustler, The (1961)                                                                                 |3955 |3468   |\n",
      "|4.124329159212881 |Ikiru (1952)                                                                                        |1118 |6669   |\n",
      "|4.12325479930192  |Celebration, The (Festen) (1998)                                                                    |2292 |2360   |\n",
      "|4.123240894039735 |Good, the Bad and the Ugly, The (Buono, il brutto, il cattivo, Il) (1966)                           |14496|1201   |\n",
      "|4.120811855670103 |Henry V (1989)                                                                                      |4656 |1224   |\n",
      "|4.120696324951644 |Creature Comforts (1989)                                                                            |2585 |3429   |\n",
      "|4.118761552680222 |Out of the Past (1947)                                                                              |1082 |2066   |\n",
      "|4.11736641221374  |Children of Paradise (Les enfants du paradis) (1945)                                                |1048 |2920   |\n",
      "+------------------+----------------------------------------------------------------------------------------------------+-----+-------+\n",
      "only showing top 100 rows\n",
      "\n"
     ]
    }
   ],
   "source": [
    "print('Most rated movies')\n",
    "print('average rating, movie name, number of reviews, movie ID')\n",
    "movies_with_500_ratings_or_more.show(100, truncate=False)"
   ]
  },
  {
   "cell_type": "code",
   "execution_count": 15,
   "metadata": {},
   "outputs": [
    {
     "name": "stdout",
     "output_type": "stream",
     "text": [
      "My movie ratings:\n",
      "+------+-------+------+\n",
      "|userId|movieId|rating|\n",
      "+------+-------+------+\n",
      "|     0|    858|     5|\n",
      "|     0|   1221|     5|\n",
      "|     0|   7502|     5|\n",
      "|     0|   2571|     5|\n",
      "|     0|  79132|     5|\n",
      "|     0|   7153|     5|\n",
      "|     0|    318|     5|\n",
      "|     0|    527|     5|\n",
      "|     0|    912|     5|\n",
      "|     0|   6016|     5|\n",
      "+------+-------+------+\n",
      "\n"
     ]
    }
   ],
   "source": [
    "from pyspark.sql import Row\n",
    "my_user_id = 0\n",
    "my_rated_movies = [\n",
    "    (my_user_id, 858, 5),\n",
    "    (my_user_id, 1221, 5),\n",
    "    (my_user_id, 7502, 5),\n",
    "    (my_user_id, 2571, 5),\n",
    "    (my_user_id, 79132, 5),\n",
    "    (my_user_id, 7153, 5),\n",
    "    (my_user_id, 318, 5),\n",
    "    (my_user_id, 527, 5),\n",
    "    (my_user_id, 912, 5),\n",
    "    (my_user_id, 6016, 5)\n",
    "]\n",
    "\n",
    "my_ratings_df = sqlContext.createDataFrame(my_rated_movies, ['userId', 'movieId', 'rating'])\n",
    "print('My movie ratings:')\n",
    "my_ratings_df.show(10)"
   ]
  },
  {
   "cell_type": "markdown",
   "metadata": {},
   "source": [
    "### (3b) Add Your Movies to Training Dataset"
   ]
  },
  {
   "cell_type": "code",
   "execution_count": 16,
   "metadata": {},
   "outputs": [
    {
     "name": "stdout",
     "output_type": "stream",
     "text": [
      "The training dataset now has 10 more entries than the original training dataset\n"
     ]
    }
   ],
   "source": [
    "training_with_my_ratings_df = training_df.unionAll(my_ratings_df)\n",
    "print('The training dataset now has {0} more entries than the original training dataset'.format(training_with_my_ratings_df.count()-training_df.count()))\n",
    "assert (training_with_my_ratings_df.count()-training_df.count() == my_ratings_df.count())"
   ]
  },
  {
   "cell_type": "markdown",
   "metadata": {},
   "source": [
    "### (3c) Train a Model with Your Ratings"
   ]
  },
  {
   "cell_type": "code",
   "execution_count": 17,
   "metadata": {},
   "outputs": [],
   "source": [
    "als.setPredictionCol('prediction') \\\n",
    "   .setMaxIter(5) \\\n",
    "   .setSeed(seed) \\\n",
    "   .setUserCol('userId') \\\n",
    "   .setItemCol('movieId') \\\n",
    "   .setRatingCol('rating')\n",
    "    \n",
    "my_ratings_model = als.fit(training_with_my_ratings_df)"
   ]
  },
  {
   "cell_type": "markdown",
   "metadata": {},
   "source": [
    "### (3d) Check RMSE for the New Model with Your Ratings"
   ]
  },
  {
   "cell_type": "code",
   "execution_count": 18,
   "metadata": {},
   "outputs": [
    {
     "name": "stdout",
     "output_type": "stream",
     "text": [
      "The model had a RMSE on the test set of 0.810968800507\n"
     ]
    }
   ],
   "source": [
    "my_predict_df = my_ratings_model.transform(test_df)\n",
    "predicted_test_my_ratings_df = my_predict_df.filter(my_predict_df['prediction'] != float('nan'))\n",
    "test_RMSE_my_ratings = reg_eval.evaluate(predicted_test_my_ratings_df)\n",
    "print('The model had a RMSE on the test set of {0}'.format(test_RMSE_my_ratings))"
   ]
  },
  {
   "cell_type": "markdown",
   "metadata": {},
   "source": [
    "### (3e) Predict Your Ratings"
   ]
  },
  {
   "cell_type": "code",
   "execution_count": 19,
   "metadata": {},
   "outputs": [
    {
     "name": "stdout",
     "output_type": "stream",
     "text": [
      "My 25 highest rated movies as predicted (for movies with more than 75 reviews:)\n",
      "+-------+-----------------------------------------------+------+----------+------+-----------------------------------------------+\n",
      "|movieId|title                                          |userId|prediction|ID    |title                                          |\n",
      "+-------+-----------------------------------------------+------+----------+------+-----------------------------------------------+\n",
      "|77736  |Crazy Stone (Fengkuang de shitou) (2006)       |0     |6.0034633 |77736 |Crazy Stone (Fengkuang de shitou) (2006)       |\n",
      "|121029 |No Distance Left to Run (2010)                 |0     |5.9715695 |121029|No Distance Left to Run (2010)                 |\n",
      "|3226   |Hellhounds on My Trail (1999)                  |0     |5.9426756 |3226  |Hellhounds on My Trail (1999)                  |\n",
      "|120134 |Doggiewoggiez! Poochiewoochiez! (2012)         |0     |5.8386703 |120134|Doggiewoggiez! Poochiewoochiez! (2012)         |\n",
      "|130347 |Bill Hicks: Sane Man (1989)                    |0     |5.760476  |130347|Bill Hicks: Sane Man (1989)                    |\n",
      "|101538 |Smitty (2012)                                  |0     |5.709902  |101538|Smitty (2012)                                  |\n",
      "|106353 |Holes in My Shoes (2006)                       |0     |5.6761527 |106353|Holes in My Shoes (2006)                       |\n",
      "|110173 |Wolf (2013)                                    |0     |5.6067014 |110173|Wolf (2013)                                    |\n",
      "|129536 |Code Name Coq Rouge (1989)                     |0     |5.5661    |129536|Code Name Coq Rouge (1989)                     |\n",
      "|122290 |Homeboy (1988)                                 |0     |5.5661    |122290|Homeboy (1988)                                 |\n",
      "|56869  |Drained (O cheiro do Ralo) (2006)              |0     |5.547534  |56869 |Drained (O cheiro do Ralo) (2006)              |\n",
      "|116183 |It's Love I'm After (1937)                     |0     |5.483466  |116183|It's Love I'm After (1937)                     |\n",
      "|81117  |Moth, The (Cma) (1980)                         |0     |5.4830093 |81117 |Moth, The (Cma) (1980)                         |\n",
      "|99493  |Girl Walk: All Day (2011)                      |0     |5.46113   |99493 |Girl Walk: All Day (2011)                      |\n",
      "|99243  |Parasites, Les (1999)                          |0     |5.43798   |99243 |Parasites, Les (1999)                          |\n",
      "|102119 |Yesterday Was a Lie (2008)                     |0     |5.4253054 |102119|Yesterday Was a Lie (2008)                     |\n",
      "|34464  |Christmas in August (Palwolui Christmas) (1998)|0     |5.422725  |34464 |Christmas in August (Palwolui Christmas) (1998)|\n",
      "|98328  |Chronicle of My Mother (Waga haha no ki) (2011)|0     |5.3912034 |98328 |Chronicle of My Mother (Waga haha no ki) (2011)|\n",
      "|112890 |Jimmy's Hall (2014)                            |0     |5.3511305 |112890|Jimmy's Hall (2014)                            |\n",
      "|111755 |Mile... Mile & a Half (2013)                   |0     |5.342337  |111755|Mile... Mile & a Half (2013)                   |\n",
      "|116141 |The Russian Novel (2013)                       |0     |5.33062   |116141|The Russian Novel (2013)                       |\n",
      "|35721  |Cast A Deadly Spell (1991)                     |0     |5.319475  |35721 |Cast A Deadly Spell (1991)                     |\n",
      "|114931 |Benigni (2009)                                 |0     |5.304007  |114931|Benigni (2009)                                 |\n",
      "|126723 |Kenny Begins (2009)                            |0     |5.30275   |126723|Kenny Begins (2009)                            |\n",
      "|81072  |Konopielka (1982)                              |0     |5.2738557 |81072 |Konopielka (1982)                              |\n",
      "+-------+-----------------------------------------------+------+----------+------+-----------------------------------------------+\n",
      "only showing top 25 rows\n",
      "\n"
     ]
    }
   ],
   "source": [
    "my_rated_movie_ids = [x[1] for x in my_rated_movies]\n",
    "not_rated_df = movies_df.filter(~ F.col('ID').isin(my_rated_movie_ids))\n",
    "my_unrated_movies_df = not_rated_df.withColumnRenamed('ID', 'movieId').withColumn('userId', F.lit(my_user_id))\n",
    "raw_predicted_ratings_df = my_ratings_model.transform(my_unrated_movies_df)\n",
    "predicted_ratings_df = raw_predicted_ratings_df.filter(raw_predicted_ratings_df['prediction'] != float('nan'))\n",
    "predicted_with_counts_df = predicted_ratings_df.join(movies_df, F.col('movieId')==F.col('ID'))\n",
    "predicted_highest_rated_movies_df = predicted_with_counts_df.sort(F.col('prediction').desc())\n",
    "print('My 25 highest rated movies as predicted (for movies with more than 75 reviews:)')\n",
    "predicted_highest_rated_movies_df.show(25,False)"
   ]
  },
  {
   "cell_type": "code",
   "execution_count": null,
   "metadata": {
    "collapsed": true
   },
   "outputs": [],
   "source": []
  }
 ],
 "metadata": {
  "kernelspec": {
   "display_name": "Python 2",
   "language": "python",
   "name": "python2"
  },
  "language_info": {
   "codemirror_mode": {
    "name": "ipython",
    "version": 2
   },
   "file_extension": ".py",
   "mimetype": "text/x-python",
   "name": "python",
   "nbconvert_exporter": "python",
   "pygments_lexer": "ipython2",
   "version": "2.7.6"
  }
 },
 "nbformat": 4,
 "nbformat_minor": 2
}
